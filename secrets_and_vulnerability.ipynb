{
 "cells": [
  {
   "cell_type": "markdown",
   "metadata": {},
   "source": [
    "# Secrets And Vulnerability"
   ]
  },
  {
   "cell_type": "markdown",
   "metadata": {},
   "source": [
    "Evil-Eye Henry was a pirate back in the day. He was not a famous one but he sure accumulated a lot of wealth. He died unexpectedly and his treasure was never found. It was buried in a **secret** spot that he never told anoyone about.\n",
    "\n",
    "Recently you found an old book mentioning his name. One of his sailors mentioned the following:\n",
    "\n",
    ">_**Arrrgh!**_ \n",
    ">\n",
    ">_I am 100% sure that Evil-Eye Henry has buried his treasure in one of the following locations:_\n",
    ">\n",
    ">1. _Black Sand Haven_\n",
    ">2. _Dead Man's Isle_\n",
    ">3. _Isle Of Mermaids_\n",
    ">4. _Kraken Reef_\n",
    ">5. _Monkey Bay_\n",
    ">6. _Old Salt Cavern_\n",
    ">\n",
    ">_I am also 50% sure that it must have been either the Black Sand Haven or the Dead Man's Isle. I could not go search for it myself because I have ended up in a land far, far away and I don't think I'm ever coming back._\n",
    ">\n",
    "> _**Arrrgh!**_\n",
    "\n",
    "You search and find the actual location of the ones mentioned in the book and you decide it's worth trying your luck with this one. But you must first decide what your best strategy for guessing the **secret** location is. \n",
    "\n",
    "(We may reference each location by its corresponding number 1-6)"
   ]
  },
  {
   "cell_type": "markdown",
   "metadata": {},
   "source": [
    "###  Probability distribution of $X$\n",
    "\n",
    "Let's call your secret $X$. It matches the $X$ pirates used to mark treasures on their maps. The possible values for $X$ are $\\{1, 2, 3, 4, 5, 6\\}$. Each number corresponds to a location in the order they appear above.\n",
    "\n",
    "Now, how likely is it for each one to really be the hiding place? The sailor said that it is either location $1$ or $2$ with probability $50\\%$. So you could deduce that $p_X(1) = \\frac{1}{4}$ and $p_X(2) = \\frac{1}{4}$ because they add up to $\\frac{1}{2} = 50\\%$. And for the remaining locations uniformly distribute the other $\\frac{1}{2}$. So the probability distribution of $X$ is given by\n",
    "\n",
    "$$\n",
    "\\pi = \\left( \\frac{1}{4}, \\frac{1}{4}, \\frac{1}{8}, \\frac{1}{8}, \\frac{1}{8}, \\frac{1}{8} \\right)\n",
    "$$"
   ]
  },
  {
   "cell_type": "code",
   "execution_count": 2,
   "metadata": {},
   "outputs": [
    {
     "name": "stdout",
     "output_type": "stream",
     "text": [
      "[0.25, 0.25, 0.125, 0.125, 0.125, 0.125]\n"
     ]
    }
   ],
   "source": [
    "pi = [1/4, 1/4, 1/8, 1/8, 1/8, 1/8]\n",
    "print(pi)"
   ]
  },
  {
   "cell_type": "markdown",
   "metadata": {},
   "source": [
    "### Shannon entropy\n",
    "\n",
    "If Shannon were looking for this reasure he would first have to find someone who knows the true value of $X$ (let's call that person John) and then go about reasoning like this:\n",
    "\n",
    ">_Hmm... $X$ is $1$ or $2$ with probability $\\frac{1}{2}$. And $3, 4, 5$ or $6$ with probability $\\frac{1}{2}$. I'm gonna ask John:_\n",
    ">\n",
    ">_Does $X$ belong to $\\{1, 2\\}$?_\n",
    ">\n",
    ">>_If the answer is yes, then hmm... $X$ is $1$ with probability $\\frac{1}{4}$ and $2$ with probability $\\frac{1}{4}$. I'm gonna ask John:_\n",
    ">>\n",
    ">>_Does $X$ belong to $\\{1\\}$?_\n",
    ">>\n",
    ">>>_If the answer is yes, then voila! I have found the treasure! It is buried in location 1 and it took me 2 questions to reach to this conclusion!_\n",
    ">>>\n",
    ">>>_If the answer is no then $X$ belongs to $\\{2\\}$ and voiila! I have found the treasure again! It is buried in location 2 and it took me 2 questions to reach to this conclusion!_\n",
    ">>\n",
    ">>_If the answer is no then $X$ belongs to $\\{3, 4, 5, 6\\}$ and hmm... $X$ is $3$ or $4$ with probability $\\frac{1}{4}$ and $5$ or $6$ with probability $\\frac{1}{4}$. I'm gonna ask John:_\n",
    ">>\n",
    ">>_Does $X$ belong to $\\{3, 4\\}$?_"
   ]
  },
  {
   "cell_type": "markdown",
   "metadata": {},
   "source": [
    "### Guessing entropy\n",
    "\n",
    "One strategy would be to go and search all of the locations. Eventually you would find the true value of $X$. But a question naturally arises. Which locations should you visit first? And does it really matter?\n",
    "\n",
    "A logical way of doing it would be to visit the ones with the highest probability first. So there is a higher probability of finding the treasure sooner. Notice that eventually you will find it. No matter in which order you visit them. But let's stick to the highest probability first strategy.\n",
    "\n"
   ]
  }
 ],
 "metadata": {
  "kernelspec": {
   "display_name": "Python 3",
   "language": "python",
   "name": "python3"
  },
  "language_info": {
   "codemirror_mode": {
    "name": "ipython",
    "version": 3
   },
   "file_extension": ".py",
   "mimetype": "text/x-python",
   "name": "python",
   "nbconvert_exporter": "python",
   "pygments_lexer": "ipython3",
   "version": "3.8.5"
  }
 },
 "nbformat": 4,
 "nbformat_minor": 4
}
