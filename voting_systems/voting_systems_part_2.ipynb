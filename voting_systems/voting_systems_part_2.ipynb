{
 "cells": [
  {
   "cell_type": "markdown",
   "metadata": {},
   "source": [
    "# Voting Systems (part 2)"
   ]
  },
  {
   "cell_type": "markdown",
   "metadata": {},
   "source": [
    "We are now going to two different, more realistic adversaries. We are gonna do that through $g$ vulnerability."
   ]
  },
  {
   "cell_type": "code",
   "execution_count": 1,
   "metadata": {},
   "outputs": [],
   "source": [
    "import numpy as np\n",
    "import matplotlib.pyplot as plt\n",
    "import itertools\n",
    "from func import *\n",
    "try:\n",
    "    from qif import *\n",
    "except: # install qif if not available (for running in colab, etc)\n",
    "    import IPython; IPython.get_ipython().run_line_magic('pip', 'install qif')\n",
    "    from qif import *"
   ]
  },
  {
   "cell_type": "markdown",
   "metadata": {},
   "source": [
    "### Adversary 1"
   ]
  },
  {
   "cell_type": "markdown",
   "metadata": {},
   "source": [
    "Suppose that an adversary will benefit from guessing correctly how some elector voted, but their benefit does not depend on which elector they choose or who the elector voted for: any victim, and any vote will be a gain for them. We define for that a gain function $g_1$ which allows an adversary to choose from action set $C×E$, where $(c, e)$ is their action of guessing that candidate $c$ was selected by elector $e$.\n",
    "\n",
    "$g_1$ can be defined as:\n",
    "\n",
    "$$\n",
    "g_1((c,e),z) =\n",
    "\\left\\{\n",
    "\t\\begin{array}{ll}\n",
    "\t\t1  & \\texttt{if } c = z(e) \\\\\n",
    "\t\t0 & \\texttt{if } c \\neq z(e)\n",
    "\t\\end{array}\n",
    "\\right.\n",
    "$$\n",
    "\n",
    "where $z(e)$ is the candidate voted for by elector $e$ in voting pattern $z$."
   ]
  },
  {
   "cell_type": "markdown",
   "metadata": {},
   "source": [
    "If we construct $G_1$ with the possible actions as rows and the possible values of $X$ as columns we get:\n",
    "\n",
    "$$\n",
    "\\begin{array}{|c|c|c|c|c|c|c|c|c|}\n",
    "\\hline\n",
    "G_1 & c_1 c_1 c_1 & c_1 c_1 c_2 & c_1 c_2 c_1 & c_1 c_2 c_2 & c_2 c_1 c_1 & c_2 c_1 c_2 & c_2 c_2 c_1 & c_2 c_2 c_2 \\\\ \\hline\n",
    "(c_1, e_1) & 1 & 1 & 1 & 1 & 0 & 0 & 0 & 0 \\\\ \\hline\n",
    "(c_1, e_2) & 1 & 1 & 0 & 0 & 1 & 1 & 0 & 0 \\\\ \\hline\n",
    "(c_1, e_3) & 1 & 0 & 1 & 0 & 1 & 0 & 1 & 0 \\\\ \\hline\n",
    "(c_2, e_1) & 0 & 0 & 0 & 0 & 1 & 1 & 1 & 1 \\\\ \\hline\n",
    "(c_2, e_2) & 0 & 0 & 1 & 1 & 0 & 0 & 1 & 1 \\\\ \\hline\n",
    "(c_2, e_3) & 0 & 1 & 0 & 1 & 0 & 1 & 0 & 1 \\\\ \\hline\n",
    "\\end{array}\n",
    "$$"
   ]
  },
  {
   "cell_type": "code",
   "execution_count": 2,
   "metadata": {},
   "outputs": [],
   "source": [
    "num_voters = 3\n",
    "num_candidates = 2\n",
    "num_combinations = num_candidates ** num_voters"
   ]
  },
  {
   "cell_type": "code",
   "execution_count": 3,
   "metadata": {},
   "outputs": [
    {
     "name": "stdout",
     "output_type": "stream",
     "text": [
      "[[1 1 1 1 0 0 0 0]\n",
      " [1 1 0 0 1 1 0 0]\n",
      " [1 0 1 0 1 0 1 0]\n",
      " [0 0 0 0 1 1 1 1]\n",
      " [0 0 1 1 0 0 1 1]\n",
      " [0 1 0 1 0 1 0 1]]\n"
     ]
    }
   ],
   "source": [
    "G1 = get_G1(num_voters, num_candidates)\n",
    "print(G1)"
   ]
  },
  {
   "cell_type": "markdown",
   "metadata": {},
   "source": [
    "The posterior vulnerability under $g_1$ gives us the probability that an adversary correctly guesses what a (random) voter voted for. For channel matrix $W$ (as defined in the previous part) this is equal to:"
   ]
  },
  {
   "cell_type": "code",
   "execution_count": 4,
   "metadata": {},
   "outputs": [],
   "source": [
    "pi = probab.uniform(num_combinations)"
   ]
  },
  {
   "cell_type": "code",
   "execution_count": 5,
   "metadata": {},
   "outputs": [],
   "source": [
    "W = get_W(num_voters, num_candidates)"
   ]
  },
  {
   "cell_type": "code",
   "execution_count": 6,
   "metadata": {},
   "outputs": [
    {
     "name": "stdout",
     "output_type": "stream",
     "text": [
      "Prior g vulnerability: 0.5\n",
      "Posterior g vulnerability of W: 0.75\n",
      "Multiplicative g leakage of W: 1.5\n"
     ]
    }
   ],
   "source": [
    "print(\"Prior g vulnerability:\", measure.g_vuln.prior(G1, pi))\n",
    "print(\"Posterior g vulnerability of W:\", measure.g_vuln.posterior(G1, pi, W))\n",
    "print(\"Multiplicative g leakage of W:\", measure.g_vuln.mult_leakage(G1, pi, W))"
   ]
  },
  {
   "cell_type": "markdown",
   "metadata": {},
   "source": [
    "If we do the same with channel matrix $C$, we observe the exact same results."
   ]
  },
  {
   "cell_type": "code",
   "execution_count": 7,
   "metadata": {},
   "outputs": [],
   "source": [
    "C = get_C(num_voters, num_candidates)"
   ]
  },
  {
   "cell_type": "code",
   "execution_count": 8,
   "metadata": {},
   "outputs": [
    {
     "name": "stdout",
     "output_type": "stream",
     "text": [
      "Prior g vulnerability: 0.5\n",
      "Posterior g vulnerability of C: 0.75\n",
      "Multiplicative g leakage of C: 1.5\n"
     ]
    }
   ],
   "source": [
    "print(\"Prior g vulnerability:\", measure.g_vuln.prior(G1, pi))\n",
    "print(\"Posterior g vulnerability of C:\", measure.g_vuln.posterior(G1, pi, C))\n",
    "print(\"Multiplicative g leakage of C:\", measure.g_vuln.mult_leakage(G1, pi, C))"
   ]
  },
  {
   "cell_type": "markdown",
   "metadata": {},
   "source": [
    "As it turns out there is a theorem adressing the more general case of any number of voters which states that under the uniform prior $\\pi$ we have that:\n",
    "\n",
    "$$\n",
    "\\mathcal{L}^{\\times}_{g_1}(\\pi, W) = \\mathcal{L}^{\\times}_{g_1}(\\pi, C)\n",
    "$$\n",
    "\n",
    "We can verify that results by observing the following plots."
   ]
  },
  {
   "cell_type": "code",
   "execution_count": 9,
   "metadata": {},
   "outputs": [],
   "source": [
    "c = 3 # number of candidates\n",
    "vs = [v for v in range(1, 10)]"
   ]
  },
  {
   "cell_type": "code",
   "execution_count": 10,
   "metadata": {},
   "outputs": [
    {
     "data": {
      "image/png": "[encoded data removed]",
      "text/plain": [
       "<Figure size 432x288 with 1 Axes>"
      ]
     },
     "metadata": {
      "needs_background": "light"
     },
     "output_type": "display_data"
    }
   ],
   "source": [
    "plt.plot(vs, [measure.g_vuln.mult_leakage(get_G1(v, c), probab.uniform(c ** v), get_W(v, c)) for v in vs])\n",
    "plt.xlabel('number of voters')\n",
    "plt.ylabel('Mupliplicative leakage of W')\n",
    "None"
   ]
  },
  {
   "cell_type": "code",
   "execution_count": 11,
   "metadata": {},
   "outputs": [
    {
     "data": {
      "image/png": "[encoded data removed]",
      "text/plain": [
       "<Figure size 432x288 with 1 Axes>"
      ]
     },
     "metadata": {
      "needs_background": "light"
     },
     "output_type": "display_data"
    }
   ],
   "source": [
    "plt.plot(vs, [measure.g_vuln.mult_leakage(get_G1(v, c), probab.uniform(c ** v), get_C(v, c)) for v in vs])\n",
    "plt.xlabel('number of voters')\n",
    "plt.ylabel('Mupliplicative leakage of C')\n",
    "None"
   ]
  },
  {
   "cell_type": "markdown",
   "metadata": {},
   "source": [
    "Intuitevly this can be understood by the following thought process.\n",
    "\n",
    ">_For any announcement of tallies for an election whose voting pattern is $z$, it is still the case that most voters in voted for the candidate with the majority, and so the adversary’s optimum guessing strategy is to pick $(maj(z), e)$, which is exactly the same guessing strategy if only the winner is announced. Hence since the optimal guessing strategies are the same for both $W$ and $C$, the leakage with respect to $g_1$ must also be the same._"
   ]
  },
  {
   "cell_type": "markdown",
   "metadata": {},
   "source": [
    "### Adversary 2"
   ]
  },
  {
   "cell_type": "markdown",
   "metadata": {},
   "source": [
    "Another adversary might benefit if they can find a voter/candidate pair such that the voter did not vote for that candidate. For this adversary we define $g_0$ as follows:\n",
    "\n",
    "$$\n",
    "g_0((c,e),z) =\n",
    "\\left\\{\n",
    "\t\\begin{array}{ll}\n",
    "\t\t1  & \\texttt{if } c \\neq z(e) \\\\\n",
    "\t\t0 & \\texttt{if } c = z(e)\n",
    "\t\\end{array}\n",
    "\\right.\n",
    "$$"
   ]
  },
  {
   "cell_type": "code",
   "execution_count": 12,
   "metadata": {},
   "outputs": [
    {
     "name": "stdout",
     "output_type": "stream",
     "text": [
      "[[0 0 0 0 1 1 1 1]\n",
      " [0 0 1 1 0 0 1 1]\n",
      " [0 1 0 1 0 1 0 1]\n",
      " [1 1 1 1 0 0 0 0]\n",
      " [1 1 0 0 1 1 0 0]\n",
      " [1 0 1 0 1 0 1 0]]\n"
     ]
    }
   ],
   "source": [
    "G0 = get_G0(num_voters, num_candidates)\n",
    "print(G0)"
   ]
  },
  {
   "cell_type": "markdown",
   "metadata": {},
   "source": [
    "Notice that $G_0$ is the complement of $G_1$, meaning that it results from switching the $1$s with $0$s and vice versa."
   ]
  },
  {
   "cell_type": "code",
   "execution_count": 13,
   "metadata": {},
   "outputs": [
    {
     "name": "stdout",
     "output_type": "stream",
     "text": [
      "Prior g vulnerability: 0.5\n",
      "Posterior g vulnerability of W: 0.75\n",
      "Multiplicative g leakage of W: 1.5\n"
     ]
    }
   ],
   "source": [
    "print(\"Prior g vulnerability:\", measure.g_vuln.prior(G0, pi))\n",
    "print(\"Posterior g vulnerability of W:\", measure.g_vuln.posterior(G0, pi, W))\n",
    "print(\"Multiplicative g leakage of W:\", measure.g_vuln.mult_leakage(G0, pi, W))"
   ]
  },
  {
   "cell_type": "markdown",
   "metadata": {},
   "source": [
    "Here it turns out that this type of adversary has more to gain from elections where they announce the votes for each candidate (i.e. channel matrix $C$). Translated into QIF, it basically means that \n",
    "\n",
    "$$\n",
    "\\mathcal{L}^{\\times}_{g_0}(\\pi, W) < \\mathcal{L}^{\\times}_{g_0}(\\pi, C)\n",
    "$$ \n",
    "\n",
    "The following plot vefiries that. Remember that the posterior vulnerability under $g_0$ gives us the probability that an adversary correctly guesses what a (random) voter **did not** vote for. \n"
   ]
  },
  {
   "cell_type": "code",
   "execution_count": 14,
   "metadata": {},
   "outputs": [],
   "source": [
    "c = 3 # number of candidates\n",
    "vs = [v for v in range(1, 10)]"
   ]
  },
  {
   "cell_type": "code",
   "execution_count": 16,
   "metadata": {},
   "outputs": [
    {
     "data": {
      "image/png": "[encoded data removed]",
      "text/plain": [
       "<Figure size 432x288 with 1 Axes>"
      ]
     },
     "metadata": {
      "needs_background": "light"
     },
     "output_type": "display_data"
    }
   ],
   "source": [
    "plt.plot(vs, [measure.g_vuln.mult_leakage(get_G0(v, c), probab.uniform(c ** v), get_W(v, c)) for v in vs], label=\"W\")\n",
    "plt.plot(vs, [measure.g_vuln.mult_leakage(get_G0(v, c), probab.uniform(c ** v), get_C(v, c)) for v in vs], label=\"C\")\n",
    "plt.xlabel('number of voters')\n",
    "plt.ylabel('Muptiplicative leakages of W and C')\n",
    "plt.legend()\n",
    "None"
   ]
  },
  {
   "cell_type": "markdown",
   "metadata": {},
   "source": [
    "This result also has a more intuitive explanation.\n",
    "\n",
    ">_When tallies are released, the adversary can increase their gain by guessing that the candidate who received the least number of votes is most likely not someone the elector selected. That information is not available in $W$._"
   ]
  }
 ],
 "metadata": {
  "kernelspec": {
   "display_name": "Python 3",
   "language": "python",
   "name": "python3"
  },
  "language_info": {
   "codemirror_mode": {
    "name": "ipython",
    "version": 3
   },
   "file_extension": ".py",
   "mimetype": "text/x-python",
   "name": "python",
   "nbconvert_exporter": "python",
   "pygments_lexer": "ipython3",
   "version": "3.8.5"
  }
 },
 "nbformat": 4,
 "nbformat_minor": 4
}
