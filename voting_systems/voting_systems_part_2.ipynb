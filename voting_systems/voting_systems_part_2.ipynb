{
 "cells": [
  {
   "cell_type": "markdown",
   "metadata": {},
   "source": [
    "# Voting Systems (part 2)"
   ]
  },
  {
   "cell_type": "markdown",
   "metadata": {},
   "source": [
    "We are now going to consider two different adversaries. And the we are gonna do that is through $g$ vulnerability.\n",
    "\n",
    "Suppose that the adversary will benefit from guessing correctly how some elector voted, but their benefit does not depend on which elector they choose or who the elector voted for: any victim, and any vote will be a gain for them. We define for that a gain function $g_1$ which allows an adversary to choose from action set $C×E$, where $(c, e)$ is their action of guessing that candidate $c$ was selected by elector $e$.\n",
    "\n",
    "$g_1$ can be defined as:\n",
    "\n",
    "$$\n",
    "g_1((c,e),z) =\n",
    "\\left\\{\n",
    "\t\\begin{array}{ll}\n",
    "\t\t1  & \\texttt{if } c = z(e) \\\\\n",
    "\t\t0 & \\texttt{if } c \\neq z(e)\n",
    "\t\\end{array}\n",
    "\\right.\n",
    "$$\n",
    "\n",
    "where $z(e)$ is the candidate voted for by elector $e$ in voting pattern $z$."
   ]
  },
  {
   "cell_type": "code",
   "execution_count": 1,
   "metadata": {},
   "outputs": [],
   "source": [
    "import numpy as np\n",
    "import matplotlib.pyplot as plt\n",
    "import itertools\n",
    "from func import *\n",
    "try:\n",
    "    from qif import *\n",
    "except: # install qif if not available (for running in colab, etc)\n",
    "    import IPython; IPython.get_ipython().run_line_magic('pip', 'install qif')\n",
    "    from qif import *"
   ]
  },
  {
   "cell_type": "code",
   "execution_count": 2,
   "metadata": {},
   "outputs": [],
   "source": [
    "def g1(vote, voting_combination, num_voters, num_candidates):\n",
    "    return int(vote[0] == get_votes(voting_combination, num_voters, num_candidates)[vote[1]])"
   ]
  },
  {
   "cell_type": "markdown",
   "metadata": {},
   "source": [
    "If we construct $G_1$ with the possible actions as rows and the possible values of $X$ as columns we get:\n",
    "\n",
    "$$\n",
    "\\begin{array}{|c|c|c|c|c|c|c|c|c|}\n",
    "\\hline\n",
    "G_1 & c_1 c_1 c_1 & c_1 c_1 c_2 & c_1 c_2 c_1 & c_1 c_2 c_2 & c_2 c_1 c_1 & c_2 c_1 c_2 & c_2 c_2 c_1 & c_2 c_2 c_2 \\\\ \\hline\n",
    "(c_1, e_1) & 1 & 1 & 1 & 1 & 0 & 0 & 0 & 0 \\\\ \\hline\n",
    "(c_1, e_2) & 1 & 1 & 0 & 0 & 1 & 1 & 0 & 0 \\\\ \\hline\n",
    "(c_1, e_3) & 1 & 0 & 1 & 0 & 1 & 0 & 1 & 0 \\\\ \\hline\n",
    "(c_2, e_1) & 0 & 0 & 0 & 0 & 1 & 1 & 1 & 1 \\\\ \\hline\n",
    "(c_2, e_2) & 0 & 0 & 1 & 1 & 0 & 0 & 1 & 1 \\\\ \\hline\n",
    "(c_2, e_3) & 0 & 1 & 0 & 1 & 0 & 1 & 0 & 1 \\\\ \\hline\n",
    "\\end{array}\n",
    "$$"
   ]
  },
  {
   "cell_type": "code",
   "execution_count": 3,
   "metadata": {},
   "outputs": [],
   "source": [
    "def get_G1(num_voters, num_candidates):\n",
    "    return np.array([[g1((c, v), i, num_voters, num_candidates) for i in range(num_candidates ** num_voters)] for c,v in itertools.product(range(num_candidates), range(num_voters))])"
   ]
  },
  {
   "cell_type": "code",
   "execution_count": 4,
   "metadata": {},
   "outputs": [],
   "source": [
    "num_voters = 3\n",
    "num_candidates = 2\n",
    "num_combinations = num_candidates ** num_voters"
   ]
  },
  {
   "cell_type": "code",
   "execution_count": 5,
   "metadata": {},
   "outputs": [
    {
     "name": "stdout",
     "output_type": "stream",
     "text": [
      "[[1 1 1 1 0 0 0 0]\n",
      " [1 1 0 0 1 1 0 0]\n",
      " [1 0 1 0 1 0 1 0]\n",
      " [0 0 0 0 1 1 1 1]\n",
      " [0 0 1 1 0 0 1 1]\n",
      " [0 1 0 1 0 1 0 1]]\n"
     ]
    }
   ],
   "source": [
    "G1 = get_G1(num_voters, num_candidates)\n",
    "print(G1)"
   ]
  },
  {
   "cell_type": "markdown",
   "metadata": {},
   "source": [
    "The following matrix shows for each action, the expected gain (rows are actions, columns are election results). "
   ]
  },
  {
   "cell_type": "code",
   "execution_count": 6,
   "metadata": {},
   "outputs": [],
   "source": [
    "W = get_W(num_voters, num_candidates)\n",
    "pi = probab.uniform(num_combinations)"
   ]
  },
  {
   "cell_type": "code",
   "execution_count": 7,
   "metadata": {
    "scrolled": true
   },
   "outputs": [
    {
     "name": "stdout",
     "output_type": "stream",
     "text": [
      "[[0.75 0.25]\n",
      " [0.75 0.25]\n",
      " [0.75 0.25]\n",
      " [0.25 0.75]\n",
      " [0.25 0.75]\n",
      " [0.25 0.75]]\n"
     ]
    }
   ],
   "source": [
    "print(G1.dot(channel.hyper(W, pi)[1]))"
   ]
  },
  {
   "cell_type": "markdown",
   "metadata": {},
   "source": [
    "For each possible outcome, the adversary's best action succeeds with probability of $0.75$. So it is natural to expecet that their average chance of success is again $0.75$."
   ]
  },
  {
   "cell_type": "code",
   "execution_count": 8,
   "metadata": {},
   "outputs": [
    {
     "name": "stdout",
     "output_type": "stream",
     "text": [
      "Prior g vulnerability: 0.5\n",
      "Posterior g vulnerability: 0.75\n",
      "Multiplicative g leakage: 1.5\n"
     ]
    }
   ],
   "source": [
    "print(\"Prior g vulnerability:\", measure.g_vuln.prior(G1, pi))\n",
    "print(\"Posterior g vulnerability:\", measure.g_vuln.posterior(G1, pi, W))\n",
    "print(\"Multiplicative g leakage:\", measure.g_vuln.mult_leakage(G1, pi, W))"
   ]
  },
  {
   "cell_type": "markdown",
   "metadata": {},
   "source": [
    "We see that before observing the election results, an adversary had an average chance of success equal to $0.5$. But after the results are announced, they can imporve their guess by $50\\%$. And to make that guess they use the following reasoning:\n",
    "\n",
    "> _If candidate $c_1$ wins then the adversary always guesses $(c_1, e)$ for any elector $e$, and if $c_2$ wins then the adversary always guesses $(c_2, e)$. That is because in the post-hoc situation the winner is the candidate that is most likely to have been selected by most electors._"
   ]
  },
  {
   "cell_type": "markdown",
   "metadata": {},
   "source": [
    "If we experiment with a slightly bigger amount of voters, for example 9, we get:"
   ]
  },
  {
   "cell_type": "code",
   "execution_count": 9,
   "metadata": {},
   "outputs": [],
   "source": [
    "num_voters = 9\n",
    "num_candidates = 2\n",
    "num_combinations = num_candidates ** num_voters"
   ]
  },
  {
   "cell_type": "code",
   "execution_count": 10,
   "metadata": {},
   "outputs": [],
   "source": [
    "G1 = get_G1(num_voters, num_candidates)"
   ]
  },
  {
   "cell_type": "code",
   "execution_count": 11,
   "metadata": {},
   "outputs": [],
   "source": [
    "W = get_W(num_voters, num_candidates)\n",
    "pi = probab.uniform(num_combinations)"
   ]
  },
  {
   "cell_type": "code",
   "execution_count": 12,
   "metadata": {
    "scrolled": true
   },
   "outputs": [
    {
     "name": "stdout",
     "output_type": "stream",
     "text": [
      "[[0.63671875 0.36328125]\n",
      " [0.63671875 0.36328125]\n",
      " [0.63671875 0.36328125]\n",
      " [0.63671875 0.36328125]\n",
      " [0.63671875 0.36328125]\n",
      " [0.63671875 0.36328125]\n",
      " [0.63671875 0.36328125]\n",
      " [0.63671875 0.36328125]\n",
      " [0.63671875 0.36328125]\n",
      " [0.36328125 0.63671875]\n",
      " [0.36328125 0.63671875]\n",
      " [0.36328125 0.63671875]\n",
      " [0.36328125 0.63671875]\n",
      " [0.36328125 0.63671875]\n",
      " [0.36328125 0.63671875]\n",
      " [0.36328125 0.63671875]\n",
      " [0.36328125 0.63671875]\n",
      " [0.36328125 0.63671875]]\n"
     ]
    }
   ],
   "source": [
    "print(G1.dot(channel.hyper(W, pi)[1]))"
   ]
  },
  {
   "cell_type": "markdown",
   "metadata": {},
   "source": [
    "For each possible outcome, the adversary's best action succeeds with probability of $0.63$. Which again, is equal to the channel's $g$ vulnerability."
   ]
  },
  {
   "cell_type": "code",
   "execution_count": 13,
   "metadata": {},
   "outputs": [
    {
     "name": "stdout",
     "output_type": "stream",
     "text": [
      "Prior g vulnerability: 0.5\n",
      "Posterior g vulnerability: 0.63671875\n",
      "Multiplicative g leakage: 1.2734375\n"
     ]
    }
   ],
   "source": [
    "print(\"Prior g vulnerability:\", measure.g_vuln.prior(G1, pi))\n",
    "print(\"Posterior g vulnerability:\", measure.g_vuln.posterior(G1, pi, W))\n",
    "print(\"Multiplicative g leakage:\", measure.g_vuln.mult_leakage(G1, pi, W))"
   ]
  },
  {
   "cell_type": "markdown",
   "metadata": {},
   "source": [
    "If we make a plot for up to 15 voters we see that the $g$ vulnerability gets smaller as the number of voters increases, while the prior $g$ vulnerability stays the same."
   ]
  },
  {
   "cell_type": "code",
   "execution_count": 14,
   "metadata": {},
   "outputs": [],
   "source": [
    "c = 2 # number of candidates\n",
    "vs = [v for v in range(1, 15)]"
   ]
  },
  {
   "cell_type": "code",
   "execution_count": 15,
   "metadata": {},
   "outputs": [
    {
     "data": {
      "image/png": "[encoded data removed]",
      "text/plain": [
       "<Figure size 432x288 with 1 Axes>"
      ]
     },
     "metadata": {
      "needs_background": "light"
     },
     "output_type": "display_data"
    }
   ],
   "source": [
    "plt.plot(vs, [measure.g_vuln.prior(get_G1(v, c), probab.uniform(c ** v)) for v in vs], label=\"prior g_1\")\n",
    "plt.plot(vs, [measure.g_vuln.posterior(get_G1(v, c), probab.uniform(c ** v), get_W(v, c)) for v in vs], label=\"posterior g_1\")\n",
    "plt.xlabel('number of voters')\n",
    "plt.ylabel('Posterior and prior g vulnerability')\n",
    "plt.legend()\n",
    "None"
   ]
  },
  {
   "cell_type": "markdown",
   "metadata": {},
   "source": [
    "So it is natural to expect that the $g$ multiplicative leakage will also be decreasing."
   ]
  },
  {
   "cell_type": "code",
   "execution_count": 16,
   "metadata": {},
   "outputs": [
    {
     "data": {
      "image/png": "[encoded data removed]",
      "text/plain": [
       "<Figure size 432x288 with 1 Axes>"
      ]
     },
     "metadata": {
      "needs_background": "light"
     },
     "output_type": "display_data"
    }
   ],
   "source": [
    "plt.plot(vs, [measure.g_vuln.mult_leakage(get_G1(v, c), probab.uniform(c ** v), get_W(v, c)) for v in vs])\n",
    "plt.xlabel('number of voters')\n",
    "plt.ylabel('Multiplicative g leakage')\n",
    "None"
   ]
  },
  {
   "cell_type": "markdown",
   "metadata": {},
   "source": [
    "---"
   ]
  },
  {
   "cell_type": "code",
   "execution_count": 17,
   "metadata": {},
   "outputs": [
    {
     "data": {
      "text/plain": [
       "1"
      ]
     },
     "execution_count": 17,
     "metadata": {},
     "output_type": "execute_result"
    }
   ],
   "source": [
    "def g0(vote, voting_combination, num_voters, num_candidates):\n",
    "    return int(vote[0] != get_votes(voting_combination, num_voters, num_candidates)[vote[1]])\n",
    "\n",
    "g0((1, 1), 4, num_voters, num_candidates)"
   ]
  },
  {
   "cell_type": "code",
   "execution_count": 18,
   "metadata": {},
   "outputs": [],
   "source": [
    "num_voters = 3\n",
    "num_candidates = 2\n",
    "num_combinations = num_candidates ** num_voters"
   ]
  },
  {
   "cell_type": "code",
   "execution_count": 19,
   "metadata": {},
   "outputs": [],
   "source": [
    "def get_G0(num_voters, num_candidates):\n",
    "    return np.array([[g0((c, v), i, num_voters, num_candidates) for i in range(num_candidates ** num_voters)] for c,v in itertools.product(range(num_candidates), range(num_voters))])"
   ]
  },
  {
   "cell_type": "code",
   "execution_count": 20,
   "metadata": {},
   "outputs": [
    {
     "name": "stdout",
     "output_type": "stream",
     "text": [
      "[[0 0 0 0 1 1 1 1]\n",
      " [0 0 1 1 0 0 1 1]\n",
      " [0 1 0 1 0 1 0 1]\n",
      " [1 1 1 1 0 0 0 0]\n",
      " [1 1 0 0 1 1 0 0]\n",
      " [1 0 1 0 1 0 1 0]]\n"
     ]
    }
   ],
   "source": [
    "G0 = get_G0(num_voters, num_candidates)\n",
    "print(G0)"
   ]
  },
  {
   "cell_type": "code",
   "execution_count": 21,
   "metadata": {},
   "outputs": [],
   "source": [
    "W = get_W(num_voters, num_candidates)\n",
    "pi = probab.uniform(num_combinations)"
   ]
  },
  {
   "cell_type": "code",
   "execution_count": 22,
   "metadata": {},
   "outputs": [
    {
     "name": "stdout",
     "output_type": "stream",
     "text": [
      "Posterior g vulnerability: 0.75\n",
      "Multiplicative g leakage: 1.5\n"
     ]
    }
   ],
   "source": [
    "print(\"Posterior g vulnerability:\", measure.g_vuln.posterior(G0, pi, W))\n",
    "print(\"Multiplicative g leakage:\", measure.g_vuln.mult_leakage(G0, pi, W))"
   ]
  },
  {
   "cell_type": "code",
   "execution_count": 23,
   "metadata": {},
   "outputs": [],
   "source": [
    "c = 2 # number of candidates\n",
    "vs = [v for v in range(1, 15)]"
   ]
  },
  {
   "cell_type": "code",
   "execution_count": 24,
   "metadata": {},
   "outputs": [
    {
     "data": {
      "image/png": "[encoded data removed]",
      "text/plain": [
       "<Figure size 432x288 with 1 Axes>"
      ]
     },
     "metadata": {
      "needs_background": "light"
     },
     "output_type": "display_data"
    }
   ],
   "source": [
    "plt.plot(vs, [measure.g_vuln.posterior(get_G1(v, c), probab.uniform(c ** v), get_W(v, c)) for v in vs], label=\"g_1\")\n",
    "plt.plot(vs, [measure.g_vuln.posterior(get_G0(v, c), probab.uniform(c ** v), get_W(v, c)) for v in vs], label=\"g_0\")\n",
    "plt.xlabel('number of voters')\n",
    "plt.ylabel('Posterior g vulnerability')\n",
    "plt.legend()\n",
    "None"
   ]
  },
  {
   "cell_type": "code",
   "execution_count": 25,
   "metadata": {},
   "outputs": [
    {
     "data": {
      "image/png": "[encoded data removed]",
      "text/plain": [
       "<Figure size 432x288 with 1 Axes>"
      ]
     },
     "metadata": {
      "needs_background": "light"
     },
     "output_type": "display_data"
    }
   ],
   "source": [
    "plt.plot(vs, [measure.g_vuln.mult_leakage(get_G1(v, c), probab.uniform(c ** v), get_W(v, c)) for v in vs], label=\"g_1\")\n",
    "plt.plot(vs, [measure.g_vuln.mult_leakage(get_G0(v, c), probab.uniform(c ** v), get_W(v, c)) for v in vs], label=\"g_0\")\n",
    "plt.xlabel('number of voters')\n",
    "plt.ylabel('Multiplicative g leakage')\n",
    "plt.legend()\n",
    "None"
   ]
  }
 ],
 "metadata": {
  "kernelspec": {
   "display_name": "Python 3",
   "language": "python",
   "name": "python3"
  },
  "language_info": {
   "codemirror_mode": {
    "name": "ipython",
    "version": 3
   },
   "file_extension": ".py",
   "mimetype": "text/x-python",
   "name": "python",
   "nbconvert_exporter": "python",
   "pygments_lexer": "ipython3",
   "version": "3.8.5"
  }
 },
 "nbformat": 4,
 "nbformat_minor": 4
}
