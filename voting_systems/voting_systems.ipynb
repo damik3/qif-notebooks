{
 "cells": [
  {
   "cell_type": "markdown",
   "metadata": {},
   "source": [
    "# Voting systems"
   ]
  },
  {
   "cell_type": "markdown",
   "metadata": {},
   "source": [
    "### Modeling elections as channels\n",
    "\n",
    "We are gonna start with a simple example to set the scene. Consider the smallest election ever with just 3 voters and 2 candidates.  How can we model that using QIF terminology?"
   ]
  },
  {
   "cell_type": "code",
   "execution_count": 1,
   "metadata": {},
   "outputs": [],
   "source": [
    "import numpy as np\n",
    "import matplotlib.pyplot as plt\n",
    "import itertools\n",
    "from func import *\n",
    "try:\n",
    "    from qif import *\n",
    "except: # install qif if not available (for running in colab, etc)\n",
    "    import IPython; IPython.get_ipython().run_line_magic('pip', 'install qif')\n",
    "    from qif import *"
   ]
  },
  {
   "cell_type": "code",
   "execution_count": 2,
   "metadata": {},
   "outputs": [],
   "source": [
    "num_voters = 3\n",
    "num_candidates = 2"
   ]
  },
  {
   "cell_type": "markdown",
   "metadata": {},
   "source": [
    "We know that a channel takes as input something secret and outputs something public. So what is secret in an election? The votes. But we have 3 persons voting. And each person has 2 possible options for his vote. So in total there are the following $2^3$ scenarios ($c_1$ and $c_2$ below stand for _candidate 1_ and _candidate 2_ respectively):\n",
    "\n",
    "```\n",
    "X = {\n",
    "    c1 c1 c1, \n",
    "    c1 c1 c2, \n",
    "    c1 c2 c1, \n",
    "    c1 c2 c2, \n",
    "    c2 c1 c1, \n",
    "    c2 c1 c2, \n",
    "    c2 c2 c1, \n",
    "    c2 c2 c2, \n",
    "    }\n",
    "```\n",
    "\n",
    "\n",
    "And that is how we can model the votes as our channel's input $X$."
   ]
  },
  {
   "cell_type": "code",
   "execution_count": 3,
   "metadata": {},
   "outputs": [],
   "source": [
    "num_combinations = num_candidates ** num_voters"
   ]
  },
  {
   "cell_type": "markdown",
   "metadata": {},
   "source": [
    "But what would the channel's output be? It depends. It could be just the name of the winning candidate; that is, the candidate which received the most votes. Or it could be for each candidate, the votes they received. Or maybe something else. \n",
    "\n",
    "**For the first scenario**, where only the winning candidate is announced, the possible values for output $Y$ are the candidates themselves, i.e.:\n",
    "\n",
    "```\n",
    "Y = { c1, c2 }\n",
    "```\n",
    "\n",
    "We model this scenario using channel matrix $W$.\n",
    "\n",
    "$$\n",
    "\\begin{array}{|c|c|c|}\n",
    "\\hline\n",
    "W & c_1 & c_2 \\\\ \\hline\n",
    "c_1 c_1 c_1 & 1 & 0 \\\\ \\hline\n",
    "c_1 c_1 c_2 & 1 & 0 \\\\ \\hline\n",
    "c_1 c_2 c_1 & 1 & 0 \\\\ \\hline\n",
    "c_1 c_2 c_2 & 0 & 1 \\\\ \\hline\n",
    "c_2 c_1 c_1 & 1 & 0 \\\\ \\hline\n",
    "c_2 c_1 c_2 & 0 & 1 \\\\ \\hline\n",
    "c_2 c_2 c_1 & 0 & 1 \\\\ \\hline\n",
    "c_2 c_2 c_2 & 0 & 1 \\\\ \\hline\n",
    "\\end{array}\n",
    "$$"
   ]
  },
  {
   "cell_type": "code",
   "execution_count": 4,
   "metadata": {},
   "outputs": [
    {
     "name": "stdout",
     "output_type": "stream",
     "text": [
      "[[1 0]\n",
      " [1 0]\n",
      " [1 0]\n",
      " [0 1]\n",
      " [1 0]\n",
      " [0 1]\n",
      " [0 1]\n",
      " [0 1]]\n"
     ]
    }
   ],
   "source": [
    "W = get_W(num_voters, num_candidates)\n",
    "print(W)"
   ]
  },
  {
   "cell_type": "markdown",
   "metadata": {},
   "source": [
    "**For the second scenario**, where the votes for each candidate are announced, the possible values for output $Y$ are:\n",
    "\n",
    "```\n",
    "Y = { (3,0), (2,1), (1,2), (0,3) }\n",
    "```\n",
    "\n",
    "We model this scenario using channel matrix $C$.\n",
    "\n",
    "$$\n",
    "\\begin{array}{|c|c|c|}\n",
    "\\hline\n",
    "C & (3,0) & (2,1) & (1,2) & (0,3) \\\\ \\hline\n",
    "c_1 c_1 c_1 & 1 & 0 & 0 & 0 \\\\ \\hline\n",
    "c_1 c_1 c_2 & 0 & 1 & 0 & 0 \\\\ \\hline\n",
    "c_1 c_2 c_1 & 0 & 1 & 0 & 0 \\\\ \\hline\n",
    "c_1 c_2 c_2 & 0 & 0 & 1 & 0 \\\\ \\hline\n",
    "c_2 c_1 c_1 & 0 & 1 & 0 & 0 \\\\ \\hline\n",
    "c_2 c_1 c_2 & 0 & 0 & 1 & 0 \\\\ \\hline\n",
    "c_2 c_2 c_1 & 0 & 0 & 1 & 0 \\\\ \\hline\n",
    "c_2 c_2 c_2 & 0 & 0 & 0 & 1 \\\\ \\hline\n",
    "\\end{array}\n",
    "$$"
   ]
  },
  {
   "cell_type": "code",
   "execution_count": 5,
   "metadata": {},
   "outputs": [
    {
     "name": "stdout",
     "output_type": "stream",
     "text": [
      "[[1 0 0 0]\n",
      " [0 1 0 0]\n",
      " [0 1 0 0]\n",
      " [0 0 1 0]\n",
      " [0 1 0 0]\n",
      " [0 0 1 0]\n",
      " [0 0 1 0]\n",
      " [0 0 0 1]]\n"
     ]
    }
   ],
   "source": [
    "C = get_C(num_voters, num_candidates)\n",
    "print(C)"
   ]
  },
  {
   "cell_type": "markdown",
   "metadata": {},
   "source": [
    "We also assume no prior knowledge about which voter votes for which candidate, so we use a uniform prior."
   ]
  },
  {
   "cell_type": "code",
   "execution_count": 6,
   "metadata": {},
   "outputs": [
    {
     "name": "stdout",
     "output_type": "stream",
     "text": [
      "[0.125 0.125 0.125 0.125 0.125 0.125 0.125 0.125]\n"
     ]
    }
   ],
   "source": [
    "pi = probab.uniform(num_combinations)\n",
    "print(pi)"
   ]
  },
  {
   "cell_type": "markdown",
   "metadata": {},
   "source": [
    "### Computing the vulnerability of $W$"
   ]
  },
  {
   "cell_type": "markdown",
   "metadata": {},
   "source": [
    "If we take a look at the hyper distribution of $W$, we see that each result happens with the same probability and upon observing it, the possible voting combinations have also happen with the same probability."
   ]
  },
  {
   "cell_type": "code",
   "execution_count": 7,
   "metadata": {},
   "outputs": [
    {
     "name": "stdout",
     "output_type": "stream",
     "text": [
      "-------------------\n",
      "|    0.50    0.50 |\n",
      "-------------------\n",
      "|    0.25    0.00 |\n",
      "|    0.25    0.00 |\n",
      "|    0.25    0.00 |\n",
      "|    0.00    0.25 |\n",
      "|    0.25    0.00 |\n",
      "|    0.00    0.25 |\n",
      "|    0.00    0.25 |\n",
      "|    0.00    0.25 |\n",
      "-------------------\n"
     ]
    }
   ],
   "source": [
    "from print_hyper import print_hyper\n",
    "print_hyper(W, pi)"
   ]
  },
  {
   "cell_type": "markdown",
   "metadata": {},
   "source": [
    "So it is natural to expect that $W$'s vulnerability is $0.25$ that is, two times the channel's prior vulnerability (which was equal to $0.125$)."
   ]
  },
  {
   "cell_type": "code",
   "execution_count": 8,
   "metadata": {},
   "outputs": [
    {
     "name": "stdout",
     "output_type": "stream",
     "text": [
      "Prior bayes vulnerability: 0.125\n",
      "Posterior bayes vulnerability of W: 0.25\n",
      "Multiplicative leakage of W: 2.0\n"
     ]
    }
   ],
   "source": [
    "print(\"Prior bayes vulnerability:\", measure.bayes_vuln.prior(pi))\n",
    "print(\"Posterior bayes vulnerability of W:\", measure.bayes_vuln.posterior(pi, W))\n",
    "print(\"Multiplicative leakage of W:\", measure.bayes_vuln.mult_leakage(pi, W))"
   ]
  },
  {
   "cell_type": "markdown",
   "metadata": {},
   "source": [
    "### Computing the vulnerability of $C$"
   ]
  },
  {
   "cell_type": "markdown",
   "metadata": {},
   "source": [
    "If we do the same thing with $C$, we see that here the different values of $y$ are not equally likely and the resulting posterior vulnerability is $0.5$ that is, $4$ times its prior vulnerability."
   ]
  },
  {
   "cell_type": "code",
   "execution_count": 9,
   "metadata": {},
   "outputs": [
    {
     "name": "stdout",
     "output_type": "stream",
     "text": [
      "---------------------------------------\n",
      "|    0.12    0.38    0.38    0.12 |\n",
      "---------------------------------------\n",
      "|    1.00    0.00    0.00    0.00 |\n",
      "|    0.00    0.33    0.00    0.00 |\n",
      "|    0.00    0.33    0.00    0.00 |\n",
      "|    0.00    0.00    0.33    0.00 |\n",
      "|    0.00    0.33    0.00    0.00 |\n",
      "|    0.00    0.00    0.33    0.00 |\n",
      "|    0.00    0.00    0.33    0.00 |\n",
      "|    0.00    0.00    0.00    1.00 |\n",
      "---------------------------------------\n"
     ]
    }
   ],
   "source": [
    "from print_hyper import print_hyper\n",
    "print_hyper(C, pi)"
   ]
  },
  {
   "cell_type": "code",
   "execution_count": 10,
   "metadata": {},
   "outputs": [
    {
     "name": "stdout",
     "output_type": "stream",
     "text": [
      "Prior bayes vulnerability: 0.125\n",
      "Posterior bayes vulnerability of C: 0.5\n",
      "Multiplicative leakage of C: 4.0\n"
     ]
    }
   ],
   "source": [
    "print(\"Prior bayes vulnerability:\", measure.bayes_vuln.prior(pi))\n",
    "print(\"Posterior bayes vulnerability of C:\", measure.bayes_vuln.posterior(pi, C))\n",
    "print(\"Multiplicative leakage of C:\", measure.bayes_vuln.mult_leakage(pi, C))"
   ]
  },
  {
   "cell_type": "markdown",
   "metadata": {},
   "source": [
    "But as someone might expect, these numbers get very small really fast as we consider more voters. That happens because the possible values for $X$, i.e.the voting combinations, grow exponentially to the number of voters. For example for an election of $10$ voters and $2$ candidates we have:"
   ]
  },
  {
   "cell_type": "code",
   "execution_count": 11,
   "metadata": {},
   "outputs": [],
   "source": [
    "num_voters = 10\n",
    "num_candidates = 2\n",
    "num_combinations = num_candidates ** num_voters"
   ]
  },
  {
   "cell_type": "code",
   "execution_count": 12,
   "metadata": {},
   "outputs": [
    {
     "name": "stdout",
     "output_type": "stream",
     "text": [
      "Prior bayes vulnerability: 0.0009765625\n",
      "\n",
      "W Posterior bayes vulnerability: 0.001953125\n",
      "W Multiplicative leakage: 2.0\n",
      "\n",
      "C Posterior bayes vulnerability: 0.0107421875\n",
      "C Multiplicative leakage: 11.0\n"
     ]
    }
   ],
   "source": [
    "print(\"Prior bayes vulnerability:\", measure.bayes_vuln.prior(probab.uniform(num_combinations)))\n",
    "print()\n",
    "print(\"W Posterior bayes vulnerability:\", measure.bayes_vuln.posterior(probab.uniform(num_combinations), get_W(num_voters, num_candidates)))\n",
    "print(\"W Multiplicative leakage:\", measure.bayes_vuln.mult_leakage(probab.uniform(num_combinations), get_W(num_voters, num_candidates)))\n",
    "print()\n",
    "print(\"C Posterior bayes vulnerability:\", measure.bayes_vuln.posterior(probab.uniform(num_combinations), get_C(num_voters, num_candidates)))\n",
    "print(\"C Multiplicative leakage:\", measure.bayes_vuln.mult_leakage(probab.uniform(num_combinations), get_C(num_voters, num_candidates)))"
   ]
  },
  {
   "cell_type": "markdown",
   "metadata": {},
   "source": [
    "Note that $W$'s multiplicative leakage is again $2$, but for $W$ it has jumped up to $11$. And still, $C$ leaks more than $W$."
   ]
  },
  {
   "cell_type": "markdown",
   "metadata": {},
   "source": [
    "### Comparing the two channels"
   ]
  },
  {
   "cell_type": "markdown",
   "metadata": {},
   "source": [
    "Let's see the bigger picture using a graph with the number of voters ranging from $1$ to $12$."
   ]
  },
  {
   "cell_type": "code",
   "execution_count": 13,
   "metadata": {},
   "outputs": [],
   "source": [
    "c = 2 # number of candidates\n",
    "vs = [v for v in range(1, 12)]"
   ]
  },
  {
   "cell_type": "code",
   "execution_count": 14,
   "metadata": {},
   "outputs": [
    {
     "data": {
      "image/png": "[encoded data removed]",
      "text/plain": [
       "<Figure size 432x288 with 1 Axes>"
      ]
     },
     "metadata": {
      "needs_background": "light"
     },
     "output_type": "display_data"
    }
   ],
   "source": [
    "plt.plot(vs, [measure.bayes_vuln.posterior(probab.uniform(c ** v), get_W(v, c)) for v in vs], label=\"W\")\n",
    "plt.plot(vs, [measure.bayes_vuln.posterior(probab.uniform(c ** v), get_C(v, c)) for v in vs], label=\"C\")\n",
    "plt.xlabel('number of voters')\n",
    "plt.ylabel('Posterior bayes vulnerability of W and C')\n",
    "plt.legend()\n",
    "None"
   ]
  },
  {
   "cell_type": "markdown",
   "metadata": {},
   "source": [
    "Here we see that $C$ exposes always more than $W$ does. And that would not be a surprise to someone if they have observed that $C$ is a post processing of $W$ or in other words, $C$ is a refinement of $W$. \n",
    "\n",
    "That can also be realized more intuitevly if you think of the process of announcing the winner of the election. First they count the votes for each candidate (which is what $W$ does), then they compare them and see who has the most and then they announce the winners name. So the process of comparing the votes for each candidate and deciding who has the most is the post processing of $W$.\n",
    "\n",
    "This can also be done using a post process matrix $R$."
   ]
  },
  {
   "cell_type": "code",
   "execution_count": 15,
   "metadata": {},
   "outputs": [
    {
     "data": {
      "image/png": "[encoded data removed]",
      "text/plain": [
       "<Figure size 432x288 with 1 Axes>"
      ]
     },
     "metadata": {
      "needs_background": "light"
     },
     "output_type": "display_data"
    }
   ],
   "source": [
    "plt.plot(vs, [measure.bayes_vuln.mult_leakage(probab.uniform(c ** v), get_W(v, c)) for v in vs], label=\"W\")\n",
    "plt.plot(vs, [measure.bayes_vuln.mult_leakage(probab.uniform(c ** v), get_C(v, c)) for v in vs], label=\"C\")\n",
    "plt.xlabel('number of voters')\n",
    "plt.ylabel('Multiplicative bayes leakage of W and C')\n",
    "plt.legend()\n",
    "None"
   ]
  },
  {
   "cell_type": "markdown",
   "metadata": {},
   "source": [
    "Another interesting fact comes from observing each channel's multiplicative leakage. While $W$'s leakage stays $2$ no matter the number of voters, $C$' leakage increases linearly. This comes from the fact that as the number of voters increases, the number of possible outcomes also increases ending up we have a more detailed partition of $Y$. Thus we can make a better guess once we observe that specific result. "
   ]
  },
  {
   "cell_type": "markdown",
   "metadata": {},
   "source": [
    "But in general both posterior vulnerabilities drops down to $0$ very fast, so from around $6$ voters or more we could argue that our secret is quite safe. **But safe against who?** Until now we used bayes vulnerability which corresponds to an adversary trying to correctly guess _the whole voting combination_ that occured. But that is usually not the case. More on part 2."
   ]
  }
 ],
 "metadata": {
  "kernelspec": {
   "display_name": "Python 3",
   "language": "python",
   "name": "python3"
  },
  "language_info": {
   "codemirror_mode": {
    "name": "ipython",
    "version": 3
   },
   "file_extension": ".py",
   "mimetype": "text/x-python",
   "name": "python",
   "nbconvert_exporter": "python",
   "pygments_lexer": "ipython3",
   "version": "3.8.5"
  }
 },
 "nbformat": 4,
 "nbformat_minor": 4
}
