{
 "cells": [
  {
   "cell_type": "markdown",
   "metadata": {},
   "source": [
    "# Voting systems"
   ]
  },
  {
   "cell_type": "markdown",
   "metadata": {},
   "source": [
    "### Modeling elections as channels\n",
    "\n",
    "We are gonna start with a simple example to set the scene. Consider the smallest election ever with just 3 voters and 2 candidates.  How can we model that using QIF terminology?\n",
    "\n",
    "We know that a channel takes as input something secret and outputs something public. So what is secret in an election? The votes. But we have 3 persons voting. And each person has 2 possible options for his vote. So in total there are the following $2^3$ scenarios ($c_1$ and $c_2$ below stand for _candidate 1_ and _candidate 2_ respectively):\n",
    "\n",
    "```\n",
    "X = {\n",
    "    c1 c1 c1, \n",
    "    c1 c1 c2, \n",
    "    c1 c2 c1, \n",
    "    c1 c2 c2, \n",
    "    c2 c1 c1, \n",
    "    c2 c1 c2, \n",
    "    c2 c2 c1, \n",
    "    c2 c2 c2, \n",
    "    }\n",
    "```\n",
    "\n",
    "\n",
    "And that is how we can model the votes as our channel's input $X$.\n",
    "\n",
    "But what would the channel's output be? It depends. It could be just the name of the winning candidate; that is, the candidate which received the most votes. Or maybe it could be for each candidate, the votes they received. Or something else. For this example we are gonna examine channels that announce only the winner's name and nothing else. And the possible values for that output $Y$ are the candidates themselves, i.e.:\n",
    "\n",
    "```\n",
    "Y = { c1, c2 }\n",
    "```\n",
    "\n",
    "So for our example the complete channel would look like:\n",
    "\n",
    "$$\n",
    "\\begin{array}{|c|c|c|}\n",
    "\\hline\n",
    "W & c_1 & c_2 \\\\ \\hline\n",
    "c_1 c_1 c_1 & 1 & 0 \\\\ \\hline\n",
    "c_1 c_1 c_2 & 1 & 0 \\\\ \\hline\n",
    "c_1 c_2 c_1 & 1 & 0 \\\\ \\hline\n",
    "c_1 c_2 c_2 & 0 & 1 \\\\ \\hline\n",
    "c_2 c_1 c_1 & 1 & 0 \\\\ \\hline\n",
    "c_2 c_1 c_2 & 0 & 1 \\\\ \\hline\n",
    "c_2 c_2 c_1 & 0 & 1 \\\\ \\hline\n",
    "c_2 c_2 c_2 & 0 & 1 \\\\ \\hline\n",
    "\\end{array}\n",
    "$$"
   ]
  },
  {
   "cell_type": "code",
   "execution_count": 6,
   "metadata": {},
   "outputs": [],
   "source": [
    "import numpy as np\n",
    "import matplotlib.pyplot as plt\n",
    "import itertools\n",
    "try:\n",
    "    from qif import *\n",
    "except: # install qif if not available (for running in colab, etc)\n",
    "    import IPython; IPython.get_ipython().run_line_magic('pip', 'install qif')\n",
    "    from qif import *"
   ]
  },
  {
   "cell_type": "code",
   "execution_count": 7,
   "metadata": {},
   "outputs": [],
   "source": [
    "num_voters = 3\n",
    "num_candidates = 2\n",
    "num_combinations = num_candidates ** num_voters"
   ]
  },
  {
   "cell_type": "code",
   "execution_count": 9,
   "metadata": {},
   "outputs": [],
   "source": [
    "def get_votes(combination, num_voters, num_candidates):\n",
    "    votes = [0 for i in range(num_voters)]\n",
    "    for i in range(num_voters):\n",
    "        votes[num_voters - 1 - i] = combination % num_candidates \n",
    "        combination -= votes[num_voters - 1 - i]\n",
    "        combination /= num_candidates\n",
    "        combination = int(combination)\n",
    "    return votes\n",
    "\n",
    "def get_winner(votes):\n",
    "    return max(set(votes), key=votes.count)\n",
    "\n",
    "def get_W(num_voters, num_candidates):\n",
    "    return np.array([[1 if j == get_winner(get_votes(i, num_voters, num_candidates)) else 0 for j in range(num_candidates)]  for i in range(num_candidates ** num_voters)])"
   ]
  },
  {
   "cell_type": "code",
   "execution_count": 10,
   "metadata": {},
   "outputs": [
    {
     "name": "stdout",
     "output_type": "stream",
     "text": [
      "[0.125 0.125 0.125 0.125 0.125 0.125 0.125 0.125]\n"
     ]
    }
   ],
   "source": [
    "pi = probab.uniform(num_combinations)\n",
    "print(pi)"
   ]
  },
  {
   "cell_type": "raw",
   "metadata": {},
   "source": [
    "W = get_W(num_voters, num_candidates)\n",
    "print(W)"
   ]
  },
  {
   "cell_type": "code",
   "execution_count": 6,
   "metadata": {},
   "outputs": [
    {
     "name": "stdout",
     "output_type": "stream",
     "text": [
      "Posterior bayes vulnerability: 0.25\n",
      "Multiplicative bayes leakage: 2.0\n"
     ]
    }
   ],
   "source": [
    "print(\"Posterior bayes vulnerability:\", measure.bayes_vuln.posterior(pi, W))\n",
    "print(\"Multiplicative bayes leakage:\", measure.bayes_vuln.mult_leakage(pi, W))"
   ]
  },
  {
   "cell_type": "code",
   "execution_count": 7,
   "metadata": {},
   "outputs": [
    {
     "data": {
      "text/plain": [
       "0"
      ]
     },
     "execution_count": 7,
     "metadata": {},
     "output_type": "execute_result"
    }
   ],
   "source": [
    "def g1(vote, voting_combination, num_voters, num_candidates):\n",
    "    return int(vote[0] == get_votes(voting_combination, num_voters, num_candidates)[vote[1]])\n",
    "\n",
    "g1((1, 1), 4, num_voters, num_candidates)"
   ]
  },
  {
   "cell_type": "code",
   "execution_count": 8,
   "metadata": {},
   "outputs": [
    {
     "name": "stdout",
     "output_type": "stream",
     "text": [
      "G1:\n",
      " [[1 1 1 1 0 0 0 0]\n",
      " [1 1 0 0 1 1 0 0]\n",
      " [1 0 1 0 1 0 1 0]\n",
      " [0 0 0 0 1 1 1 1]\n",
      " [0 0 1 1 0 0 1 1]\n",
      " [0 1 0 1 0 1 0 1]]\n"
     ]
    }
   ],
   "source": [
    "def get_G1(num_voters, num_candidates):\n",
    "    return np.array([[g1((c, v), i, num_voters, num_candidates) for i in range(num_candidates ** num_voters)] for c,v in itertools.product(range(num_candidates), range(num_voters))])\n",
    "\n",
    "G1 = get_G1(3, 2)\n",
    "print(\"G1:\\n\", G1)"
   ]
  },
  {
   "cell_type": "code",
   "execution_count": 9,
   "metadata": {},
   "outputs": [
    {
     "name": "stdout",
     "output_type": "stream",
     "text": [
      "Posterior g vulnerability: 0.75\n",
      "Multiplicative g leakage: 1.5\n"
     ]
    }
   ],
   "source": [
    "print(\"Posterior g vulnerability:\", measure.g_vuln.posterior(G1, pi, W))\n",
    "print(\"Multiplicative g leakage:\", measure.g_vuln.mult_leakage(G1, pi, W))"
   ]
  },
  {
   "cell_type": "code",
   "execution_count": 10,
   "metadata": {},
   "outputs": [
    {
     "data": {
      "text/plain": [
       "1"
      ]
     },
     "execution_count": 10,
     "metadata": {},
     "output_type": "execute_result"
    }
   ],
   "source": [
    "def g0(vote, voting_combination, num_voters, num_candidates):\n",
    "    return int(vote[0] != get_votes(voting_combination, num_voters, num_candidates)[vote[1]])\n",
    "\n",
    "g0((1, 1), 4, num_voters, num_candidates)"
   ]
  },
  {
   "cell_type": "code",
   "execution_count": 11,
   "metadata": {},
   "outputs": [
    {
     "name": "stdout",
     "output_type": "stream",
     "text": [
      "G0:\n",
      " [[0 0 0 0 1 1 1 1]\n",
      " [0 0 1 1 0 0 1 1]\n",
      " [0 1 0 1 0 1 0 1]\n",
      " [1 1 1 1 0 0 0 0]\n",
      " [1 1 0 0 1 1 0 0]\n",
      " [1 0 1 0 1 0 1 0]]\n"
     ]
    }
   ],
   "source": [
    "def get_G0(num_voters, num_candidates):\n",
    "    return np.array([[g0((c, v), i, num_voters, num_candidates) for i in range(num_candidates ** num_voters)] for c,v in itertools.product(range(num_candidates), range(num_voters))])\n",
    "\n",
    "G0 = get_G0(3, 2)\n",
    "print(\"G0:\\n\", G0)"
   ]
  },
  {
   "cell_type": "code",
   "execution_count": 12,
   "metadata": {},
   "outputs": [
    {
     "name": "stdout",
     "output_type": "stream",
     "text": [
      "Posterior g vulnerability: 0.75\n",
      "Multiplicative g leakage: 1.5\n"
     ]
    }
   ],
   "source": [
    "print(\"Posterior g vulnerability:\", measure.g_vuln.posterior(G0, pi, W))\n",
    "print(\"Multiplicative g leakage:\", measure.g_vuln.mult_leakage(G0, pi, W))"
   ]
  },
  {
   "cell_type": "code",
   "execution_count": 13,
   "metadata": {},
   "outputs": [],
   "source": [
    "c = 3 # number of candidates\n",
    "vs = [v for v in range(1, 10)]"
   ]
  },
  {
   "cell_type": "code",
   "execution_count": 14,
   "metadata": {},
   "outputs": [
    {
     "data": {
      "image/png": "[encoded data removed]",
      "text/plain": [
       "<Figure size 432x288 with 1 Axes>"
      ]
     },
     "metadata": {
      "needs_background": "light"
     },
     "output_type": "display_data"
    }
   ],
   "source": [
    "plt.plot(vs, [measure.g_vuln.posterior(get_G1(v, c), probab.uniform(c ** v), get_W(v, c)) for v in vs], label=\"g_1\")\n",
    "plt.plot(vs, [measure.g_vuln.posterior(get_G0(v, c), probab.uniform(c ** v), get_W(v, c)) for v in vs], label=\"g_0\")\n",
    "plt.xlabel('number of voters')\n",
    "plt.ylabel('Posterior g vulnerability')\n",
    "plt.legend()\n",
    "None"
   ]
  },
  {
   "cell_type": "code",
   "execution_count": 15,
   "metadata": {},
   "outputs": [
    {
     "data": {
      "image/png": "[encoded data removed]",
      "text/plain": [
       "<Figure size 432x288 with 1 Axes>"
      ]
     },
     "metadata": {
      "needs_background": "light"
     },
     "output_type": "display_data"
    }
   ],
   "source": [
    "plt.plot(vs, [measure.g_vuln.mult_leakage(get_G1(v, c), probab.uniform(c ** v), get_W(v, c)) for v in vs], label=\"g_1\")\n",
    "plt.plot(vs, [measure.g_vuln.mult_leakage(get_G0(v, c), probab.uniform(c ** v), get_W(v, c)) for v in vs], label=\"g_0\")\n",
    "plt.xlabel('number of voters')\n",
    "plt.ylabel('Posterior g vulnerability')\n",
    "plt.legend()\n",
    "None"
   ]
  }
 ],
 "metadata": {
  "kernelspec": {
   "display_name": "Python 3",
   "language": "python",
   "name": "python3"
  },
  "language_info": {
   "codemirror_mode": {
    "name": "ipython",
    "version": 3
   },
   "file_extension": ".py",
   "mimetype": "text/x-python",
   "name": "python",
   "nbconvert_exporter": "python",
   "pygments_lexer": "ipython3",
   "version": "3.8.5"
  }
 },
 "nbformat": 4,
 "nbformat_minor": 4
}
