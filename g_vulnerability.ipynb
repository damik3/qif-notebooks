{
 "cells": [
  {
   "cell_type": "markdown",
   "metadata": {},
   "source": [
    "# g-vulnerability"
   ]
  },
  {
   "cell_type": "markdown",
   "metadata": {},
   "source": [
    "Remember Evil-Eye Henry and his buried treasure from [Secrets And Vulnerability](https://github.com/damik3/qif-notebooks/blob/master/secrets_and_vulnerability.ipynb). There we discussed ways to measure the vunlnerability of a secret. Here we are gonna discuss g-vulnerability in the same context. "
   ]
  },
  {
   "cell_type": "markdown",
   "metadata": {},
   "source": [
    "### Defining $g$\n",
    "\n",
    "Remember that $g(w, x)$ specifies the gain that the adversary achieves by taking action $w$ when the value of the secret is $x$. In this example the role of the adversary is basically us trying to guess the secret location $X$.\n",
    "\n",
    "We must first define the set $W$ which consists of the actions we can take. If we say that an action is to go and dig up a possible location, then we could define $W = \\{ 1, 2, 3, 4, 5, 6 \\}$. For example $w=3$ corresponds to the action of going and digging up location $3$.\n",
    "\n",
    "When we take a guess and it is the right one we get rewarded! In our example the reward is the monetary value of the treasure. But if we take a guess and it's the wrong one we lose the money we spent traveling back and forth and digging up the place. So that can be expressed by a negative number.\n",
    "\n",
    "\n",
    "$$\n",
    "\\begin{array}{|c|c|c|c|c|c|c|}\n",
    "\\hline\n",
    "g & 1 & 2 & 3 & 4 & 5 & 6 \\\\ \\hline\n",
    "1 & \\mathbf{$1000} & -$100 & -$100 & -$100 & -$100 & -$100  \\\\ \\hline\n",
    "2 & -$500 & \\mathbf{$1000} & -$500 & -$500 & -$500 & -$500 \\\\ \\hline\n",
    "3 & -$100 & -$100 & \\mathbf{$1000} & -$100 & -$100 & -$100 \\\\ \\hline\n",
    "4 & -$200 & -$200 & -$200 & \\mathbf{$1000} & -$200 & -$200 \\\\ \\hline\n",
    "5 & -$1000 & -$1000 & -$1000 & -$1000 & \\mathbf{$1000} & -$1000 \\\\ \\hline\n",
    "6 & -$100 & -$100 & -$100 & -$100 & -$100 & \\mathbf{$1000} \\\\ \\hline\n",
    "\\end{array}\n",
    "$$"
   ]
  }
 ],
 "metadata": {
  "kernelspec": {
   "display_name": "Python 3",
   "language": "python",
   "name": "python3"
  },
  "language_info": {
   "codemirror_mode": {
    "name": "ipython",
    "version": 3
   },
   "file_extension": ".py",
   "mimetype": "text/x-python",
   "name": "python",
   "nbconvert_exporter": "python",
   "pygments_lexer": "ipython3",
   "version": "3.8.5"
  }
 },
 "nbformat": 4,
 "nbformat_minor": 4
}
