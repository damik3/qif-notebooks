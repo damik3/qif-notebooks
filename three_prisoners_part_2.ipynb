{
 "cells": [
  {
   "cell_type": "markdown",
   "metadata": {},
   "source": [
    "# The Three Prisoners Problem (part 2)"
   ]
  },
  {
   "cell_type": "markdown",
   "metadata": {},
   "source": [
    "Here we are going to examine a few variations of the original problem. The first one is:"
   ]
  },
  {
   "cell_type": "markdown",
   "metadata": {},
   "source": [
    "## What if the warden uses a biased coin to answer the question?\n",
    "\n",
    "In the classic version of the problem Alice says to the warden\n",
    "\n",
    ">...If I'm pardoned, chose randomly to name Bob or Charlie.\n",
    "\n",
    "which has basically the same meaning as\n",
    "\n",
    ">...If I'm pardoned, flip a **fair coin** and if it lands on heads says Bob's name otherwise say Charlie's.\n",
    "\n",
    "But what would happen if the warden flipped a **biased coin** and made his choice according to that?\n",
    "\n",
    "A biased coin is characterized by a probability $p$. For example if $p = \\frac{2}{3}$ then it means that the coin lands on heads 2 out of 3 times and on tails 1 out of 3.\n",
    "\n",
    "If you haven't guessed it already, we're gonna experiment with a couple different values of $p$ and for that we're gonna define the `get_W(p)` and the `get_distribution(p)` function that are gonna speed things up a little. \n",
    "\n",
    "For this variation we are gonna keep assuming that **the pardoned prisoner is picked uniformly**."
   ]
  },
  {
   "cell_type": "code",
   "execution_count": 1,
   "metadata": {},
   "outputs": [],
   "source": [
    "import numpy as np\n",
    "import matplotlib.pyplot as plt\n",
    "try:\n",
    "    from qif import *\n",
    "except: # install qif if not available (for running in colab, etc)\n",
    "    import IPython; IPython.get_ipython().run_line_magic('pip', 'install qif')\n",
    "    from qif import *"
   ]
  },
  {
   "cell_type": "code",
   "execution_count": 2,
   "metadata": {},
   "outputs": [],
   "source": [
    "def get_W(p):\n",
    "    C = np.array([\n",
    "        [0, p, 1-p],\n",
    "        [0, 0,   1],\n",
    "        [0, 1,   0],\n",
    "    ])\n",
    "    return C\n",
    "\n",
    "def get_distribution(p):\n",
    "    return np.array([p, (1-p)/2,(1-p)/2])"
   ]
  },
  {
   "cell_type": "markdown",
   "metadata": {},
   "source": [
    "`get_W(p)` takes as input a probability $p$ and creates the channel matrix $W$ (as discussed in the previous part) with the only difference that now the warden uses a biased coin characterized by $p$.\n",
    "\n",
    "`get_distribution(p)` takes as input a probability $p$ and creates a distribution $\\pi$ where:\n",
    " - if $p=1/3$, then you get the uniform distribution with each prisoner being chosen with a probability of $1/3$. \n",
    " - if $p > 1/3$, then the first prisoner is more likely to be pardoned than any of the other two. \n",
    " - if $p < 1/3$, then the first prisoner is the least likely of all to be pardoned.\n",
    "\n",
    "Now consider the following cases."
   ]
  },
  {
   "cell_type": "markdown",
   "metadata": {},
   "source": [
    "### Biased coin with $p = \\frac{2}{3}$\n",
    "\n",
    "Let's define $W$, and the prior distribution $\\pi$ in python."
   ]
  },
  {
   "cell_type": "code",
   "execution_count": 3,
   "metadata": {},
   "outputs": [
    {
     "name": "stdout",
     "output_type": "stream",
     "text": [
      "W\n",
      " [[0.   0.75 0.25]\n",
      " [0.   0.   1.  ]\n",
      " [0.   1.   0.  ]]\n",
      "pi\n",
      " [0.33333333 0.33333333 0.33333333]\n"
     ]
    }
   ],
   "source": [
    "W = get_W(3/4)\n",
    "print(\"W\\n\", W)\n",
    "pi = get_distribution(1/3)\n",
    "print(\"pi\\n\", pi)"
   ]
  },
  {
   "cell_type": "markdown",
   "metadata": {},
   "source": [
    "Now how does this change our answer to the questions we're interested in? Let's quickly remember these questions.\n",
    "\n",
    ">1. Given the warden's answer, what is the probability of correctly guessing the pardoned prisoner?\n",
    ">2. Is the warden’s answer useful for Alice?\n",
    "\n",
    "For question 1, as we said in the previous part, the answer is basically given by the posterior vulnerability of $W$. Let's also print the prior vulnerability. "
   ]
  },
  {
   "cell_type": "code",
   "execution_count": 4,
   "metadata": {},
   "outputs": [
    {
     "name": "stdout",
     "output_type": "stream",
     "text": [
      "Prior Bayes vulnerability: 0.33333333333333337\n",
      "Posterior Bayes vulnerability = 0.6666666666666666\n"
     ]
    }
   ],
   "source": [
    "print(\"Prior Bayes vulnerability:\", measure.bayes_vuln.prior(pi))\n",
    "print(\"Posterior Bayes vulnerability =\", measure.bayes_vuln.posterior(pi, W))"
   ]
  },
  {
   "cell_type": "markdown",
   "metadata": {},
   "source": [
    "We can see that it is exactly the same as in the original problem, where the coin was not biased. Hmm, that looks a bit suspicious... \n",
    "\n",
    "For question 2, we're also gonna need the posteriors distribution matrix $P$."
   ]
  },
  {
   "cell_type": "code",
   "execution_count": 5,
   "metadata": {
    "scrolled": true
   },
   "outputs": [
    {
     "name": "stdout",
     "output_type": "stream",
     "text": [
      "[[       nan 0.42857143 0.2       ]\n",
      " [       nan 0.         0.8       ]\n",
      " [       nan 0.57142857 0.        ]]\n"
     ]
    }
   ],
   "source": [
    "P = channel.posteriors(W, pi)\n",
    "print(P)"
   ]
  },
  {
   "cell_type": "markdown",
   "metadata": {},
   "source": [
    "Here, the answer is basically given by $p(X = A | Y = y)$, by examining it for all values of $y$. There are two possible values for $y$ and these are $B$ and $C$. Now, $p(X = A | Y = B)$ corresponds to $P$'s first-row-second-column element which is $0.4$ and $p(X = A | Y = C)$ corresponds to $P$'s first-row-third-column element which is $0.25$. So from that we can deduct that if the warden says Bob's name then Alice has a $0.4$ chance of surviving but if the warden says Charlie's then it goes down to $0.25$. So here the warden's answer is somewhat useful for Alice, meaning that it updates her knowledge about the probability of her surviving. "
   ]
  },
  {
   "cell_type": "markdown",
   "metadata": {},
   "source": [
    "### Biased coin with $p = \\frac{3}{4}$\n",
    "\n",
    "For question 1, doing the same thing as before we see that "
   ]
  },
  {
   "cell_type": "code",
   "execution_count": 6,
   "metadata": {},
   "outputs": [
    {
     "name": "stdout",
     "output_type": "stream",
     "text": [
      "W\n",
      " [[0.   0.75 0.25]\n",
      " [0.   0.   1.  ]\n",
      " [0.   1.   0.  ]] \n",
      "\n",
      "Prior Bayes vulnerability: 0.33333333333333337\n",
      "Posterior Bayes vulnerability = 0.6666666666666666\n"
     ]
    }
   ],
   "source": [
    "W = get_W(3/4)\n",
    "print(\"W\\n\", W, \"\\n\")\n",
    "print(\"Prior Bayes vulnerability:\", measure.bayes_vuln.prior(pi))\n",
    "print(\"Posterior Bayes vulnerability =\", measure.bayes_vuln.posterior(pi, W))"
   ]
  },
  {
   "cell_type": "markdown",
   "metadata": {},
   "source": [
    "We see that again, the posterior vunlerability of $W$ is the same. This implies that possibly, no matter the value of $p$, $V(\\pi, C)$ stays the same. This indeed can be experimentally verified by trying different values of $p$ and using python to plot the results. But before that, take a few moments to try yourself a few different values for the p parameter of `get_W(p)` in the cell above and rerunning it."
   ]
  },
  {
   "cell_type": "code",
   "execution_count": 7,
   "metadata": {
    "scrolled": true
   },
   "outputs": [
    {
     "data": {
      "image/png": "[encoded data removed]",
      "text/plain": [
       "<Figure size 432x288 with 1 Axes>"
      ]
     },
     "metadata": {
      "needs_background": "light"
     },
     "output_type": "display_data"
    }
   ],
   "source": [
    "ps = np.linspace(0, 1, 100)\n",
    "plt.plot(ps, [measure.bayes_vuln.posterior(get_distribution(1/3), get_W(p)) for p in ps])\n",
    "plt.xlabel('p')\n",
    "plt.ylabel('Posterior vulerability on uniform prior')\n",
    "None"
   ]
  },
  {
   "cell_type": "markdown",
   "metadata": {},
   "source": [
    "Here we clearly see that $V(\\pi, C)$ indeed stays the same for all possible values of $p$. Which means that no matter what $p$ the warden uses to determine his answer, **our best guess** will always succeed with probability $\\frac{2}{3}$."
   ]
  },
  {
   "cell_type": "markdown",
   "metadata": {},
   "source": [
    "---\n",
    "\n",
    "---\n",
    "\n",
    "---"
   ]
  },
  {
   "cell_type": "code",
   "execution_count": 8,
   "metadata": {},
   "outputs": [
    {
     "data": {
      "image/png": "[encoded data removed]",
      "text/plain": [
       "<Figure size 432x288 with 1 Axes>"
      ]
     },
     "metadata": {
      "needs_background": "light"
     },
     "output_type": "display_data"
    }
   ],
   "source": [
    "plt.plot(ps, [measure.bayes_vuln.mult_leakage(get_distribution(1/3), get_W(p)) for p in ps])\n",
    "plt.xlabel('p')\n",
    "plt.ylabel('Multiplicative leakage on uniform prior')\n",
    "None"
   ]
  },
  {
   "cell_type": "code",
   "execution_count": 9,
   "metadata": {},
   "outputs": [
    {
     "data": {
      "image/png": "[encoded data removed]",
      "text/plain": [
       "<Figure size 432x288 with 1 Axes>"
      ]
     },
     "metadata": {
      "needs_background": "light"
     },
     "output_type": "display_data"
    }
   ],
   "source": [
    "plt.plot(ps, [measure.bayes_vuln.posterior(get_distribution(p), get_W(0.5)) for p in ps])\n",
    "plt.xlabel('p')\n",
    "plt.ylabel('Posterior vulnerability with original W')\n",
    "None"
   ]
  },
  {
   "cell_type": "code",
   "execution_count": 10,
   "metadata": {},
   "outputs": [
    {
     "data": {
      "image/png": "[encoded data removed]",
      "text/plain": [
       "<Figure size 432x288 with 1 Axes>"
      ]
     },
     "metadata": {
      "needs_background": "light"
     },
     "output_type": "display_data"
    }
   ],
   "source": [
    "plt.plot(ps, [measure.bayes_vuln.mult_leakage(get_distribution(p), get_W(0.5)) for p in ps])\n",
    "plt.xlabel('p')\n",
    "plt.ylabel('Multiplicative leakage with original W')\n",
    "None"
   ]
  }
 ],
 "metadata": {
  "kernelspec": {
   "display_name": "Python 3",
   "language": "python",
   "name": "python3"
  },
  "language_info": {
   "codemirror_mode": {
    "name": "ipython",
    "version": 3
   },
   "file_extension": ".py",
   "mimetype": "text/x-python",
   "name": "python",
   "nbconvert_exporter": "python",
   "pygments_lexer": "ipython3",
   "version": "3.8.5"
  }
 },
 "nbformat": 4,
 "nbformat_minor": 4
}
