{
 "cells": [
  {
   "cell_type": "markdown",
   "metadata": {},
   "source": [
    "# Refinement"
   ]
  },
  {
   "cell_type": "markdown",
   "metadata": {},
   "source": [
    "Assume that we have a medical database, where the sensitive information is the disease that has been diagnosed and we want to add noise to the answers of queries like:\n",
    "\n",
    "> _Does patient $x$ has disease $y$?_\n",
    "\n",
    "We are gonna examine a quite simpified scenario of 4 patients and 4 possible diseases. \n",
    "\n",
    "$$\n",
    "\\begin{array}{|c|c|c|c|}\n",
    "\\hline\n",
    "C_0 & \\text{COVID-2019} & \\text{FLU-2018} & \\text{H1N1} & \\text{SARS-1}  \\\\ \\hline\n",
    "\\text{Alice} & \\textbf{1} & 0 & 0 & 0\\\\ \\hline\n",
    "\\text{Bob} & 0 & \\textbf{1} & 0 & 0 \\\\ \\hline\n",
    "\\text{Charlie} & 0 & 0 & \\textbf{1} & 0 \\\\ \\hline\n",
    "\\text{Dave} & 0 & 0 & 0 & \\textbf{1} \\\\ \\hline\n",
    "\\end{array}\n",
    "$$\n",
    "\n",
    "Each row represents a patient and the $1$s mark the disease they have.\n",
    "\n",
    "We can also model this using a channel matrix `C0` like below (after a few and small definitions)."
   ]
  },
  {
   "cell_type": "code",
   "execution_count": 1,
   "metadata": {},
   "outputs": [],
   "source": [
    "import numpy as np\n",
    "import matplotlib.pyplot as plt\n",
    "try:\n",
    "    from qif import *\n",
    "except: # install qif if not available (for running in colab, etc)\n",
    "    import IPython; IPython.get_ipython().run_line_magic('pip', 'install qif')\n",
    "    from qif import *"
   ]
  },
  {
   "cell_type": "code",
   "execution_count": 2,
   "metadata": {},
   "outputs": [],
   "source": [
    "def get_pi(p, p_pos, n):\n",
    "    return np.array([p if i == p_pos else (1-p)/(n-1) for i in range(n)])\n",
    "\n",
    "def get_C(p, n):\n",
    "    return np.array([get_pi(p, i, n) for i in range(n)])"
   ]
  },
  {
   "cell_type": "code",
   "execution_count": 3,
   "metadata": {},
   "outputs": [],
   "source": [
    "n = 4 # number of patients which is also the number of possible diseases"
   ]
  },
  {
   "cell_type": "code",
   "execution_count": 4,
   "metadata": {},
   "outputs": [
    {
     "name": "stdout",
     "output_type": "stream",
     "text": [
      "C0:\n",
      " [[1. 0. 0. 0.]\n",
      " [0. 1. 0. 0.]\n",
      " [0. 0. 1. 0.]\n",
      " [0. 0. 0. 1.]]\n"
     ]
    }
   ],
   "source": [
    "C0 = get_C(1, n)\n",
    "print(\"C0:\\n\", C0)"
   ]
  },
  {
   "cell_type": "markdown",
   "metadata": {},
   "source": [
    "### Answering truthfully with probability $p = 0.7$\n",
    "\n",
    "One simple way of adding noise to our answers is to give the true answer with a somewhat high probability of let's say $0.7$ and distribute the remaining $0.3$ to the remaining possible outcomes (we may have added a bit too much noise for this specific scenario but the numbers are just to illustrate a specific example). This can be represented by a channel matrix $C_1$.\n",
    "\n",
    "$$\n",
    "\\begin{array}{|c|c|c|c|}\n",
    "\\hline\n",
    "C_1 & \\text{COVID-2019} & \\text{FLU-2018} & \\text{H1N1} & \\text{SARS-1}  \\\\ \\hline\n",
    "\\text{Alice} & \\textbf{0.7} & 0.1 & 0.1 & 0.1\\\\ \\hline\n",
    "\\text{Bob} & 0.1 & \\textbf{0.7} & 0.1 & 0.1 \\\\ \\hline\n",
    "\\text{Charlie} & 0.1 & 0.1 & \\textbf{0.7} & 0.1 \\\\ \\hline\n",
    "\\text{Dave} & 0.1 & 0.1 & 0.1 & \\textbf{0.7} \\\\ \\hline\n",
    "\\end{array}\n",
    "$$"
   ]
  },
  {
   "cell_type": "code",
   "execution_count": 5,
   "metadata": {},
   "outputs": [
    {
     "name": "stdout",
     "output_type": "stream",
     "text": [
      "C1:\n",
      " [[0.7 0.1 0.1 0.1]\n",
      " [0.1 0.7 0.1 0.1]\n",
      " [0.1 0.1 0.7 0.1]\n",
      " [0.1 0.1 0.1 0.7]]\n"
     ]
    }
   ],
   "source": [
    "C1 = get_C(0.7, n)\n",
    "print(\"C1:\\n\", C1)"
   ]
  },
  {
   "cell_type": "markdown",
   "metadata": {},
   "source": [
    "Given a uniform prior, we compute its Posterior Bayes Vulnerability and its Multiplicative Bayes Capacity."
   ]
  },
  {
   "cell_type": "code",
   "execution_count": 6,
   "metadata": {},
   "outputs": [],
   "source": [
    "pi = probab.uniform(len(C1[0]))"
   ]
  },
  {
   "cell_type": "code",
   "execution_count": 7,
   "metadata": {},
   "outputs": [
    {
     "name": "stdout",
     "output_type": "stream",
     "text": [
      "Posterior Bayes Vulnerability: 0.7\n",
      "Multiplicative Bayes Capacity: 2.8\n"
     ]
    }
   ],
   "source": [
    "print(\"Posterior Bayes Vulnerability:\", measure.bayes_vuln.posterior(pi, C1))\n",
    "print(\"Multiplicative Bayes Capacity:\", measure.bayes_vuln.mult_capacity(C1))"
   ]
  },
  {
   "cell_type": "markdown",
   "metadata": {},
   "source": [
    "Notice that the channel's posterior vulnerability is equal $0.7$ which is also the probability we answer truthfully."
   ]
  },
  {
   "cell_type": "markdown",
   "metadata": {},
   "source": [
    "### Answering truthfully with probability $p = 0.6$\n",
    "\n",
    "Someone could be curious to epxeriment with a channel using a smaller $p$ of let's say $0.6$. Channel matrix $C_2$ represents this case.\n",
    "\n",
    "$$\n",
    "\\begin{array}{|c|c|c|c|}\n",
    "\\hline\n",
    "C_2 & \\text{COVID-2019} & \\text{FLU-2018} & \\text{H1N1} & \\text{SARS-1}  \\\\ \\hline\n",
    "\\text{Alice} & \\textbf{0.6} & 0.133 & 0.133 & 0.133\\\\ \\hline\n",
    "\\text{Bob} & 0.133 & \\textbf{0.6} & 0.133 & 0.133 \\\\ \\hline\n",
    "\\text{Charlie} & 0.133 & 0.133 & \\textbf{0.6} & 0.133 \\\\ \\hline\n",
    "\\text{Dave} & 0.133 & 0.133 & 0.133 & \\textbf{0.6} \\\\ \\hline\n",
    "\\end{array}\n",
    "$$"
   ]
  },
  {
   "cell_type": "code",
   "execution_count": 8,
   "metadata": {},
   "outputs": [
    {
     "name": "stdout",
     "output_type": "stream",
     "text": [
      "C2:\n",
      " [[0.6        0.13333333 0.13333333 0.13333333]\n",
      " [0.13333333 0.6        0.13333333 0.13333333]\n",
      " [0.13333333 0.13333333 0.6        0.13333333]\n",
      " [0.13333333 0.13333333 0.13333333 0.6       ]]\n"
     ]
    }
   ],
   "source": [
    "C2 = get_C(0.6, n)\n",
    "# C2[1] = np.array(get_pi(1, 1, n))\n",
    "print(\"C2:\\n\", C2)"
   ]
  },
  {
   "cell_type": "markdown",
   "metadata": {},
   "source": [
    "Let's also compute its Posterior Bayes Vulnerability and Multiplicative Bayes Capacity again, under a uniform prior."
   ]
  },
  {
   "cell_type": "code",
   "execution_count": 9,
   "metadata": {},
   "outputs": [
    {
     "name": "stdout",
     "output_type": "stream",
     "text": [
      "Posterior Bayes Vulnerability: 0.6\n",
      "Multiplicative Bayes Capacity: 2.4\n"
     ]
    }
   ],
   "source": [
    "print(\"Posterior Bayes Vulnerability:\", measure.bayes_vuln.posterior(pi, C2))\n",
    "print(\"Multiplicative Bayes Capacity:\", measure.bayes_vuln.mult_capacity(C2))"
   ]
  },
  {
   "cell_type": "markdown",
   "metadata": {},
   "source": [
    "Notice that again its posterior vulnerability is equal to the probability we answer truthfully."
   ]
  },
  {
   "cell_type": "markdown",
   "metadata": {},
   "source": [
    "### Comparing $C_1$ and $C_2$\n",
    "\n",
    "The vulnerability of $C_2$ is less than that of $C_1$, so **under that specific prior** we are sure that $C_2$ leaks in general less information about the patients than $C_1$. But what happens under different priors? Someone might say that $C_2$ seems like leaking less information in general. $C_2$ also has a smaller multiplicative capacity. But can we be sure?\n",
    "\n",
    "Let's see what happens under a specific family of prior distritubtions generated by `get_pi(p)`. "
   ]
  },
  {
   "cell_type": "code",
   "execution_count": 10,
   "metadata": {},
   "outputs": [
    {
     "data": {
      "image/png": "[encoded data removed]",
      "text/plain": [
       "<Figure size 432x288 with 1 Axes>"
      ]
     },
     "metadata": {
      "needs_background": "light"
     },
     "output_type": "display_data"
    }
   ],
   "source": [
    "ps = np.linspace(0, 1, 100)\n",
    "plt.plot(ps, [measure.bayes_vuln.posterior(get_pi(p, 0, n), C1) for p in ps], label=\"C1\")\n",
    "plt.plot(ps, [measure.bayes_vuln.posterior(get_pi(p, 0, n), C2) for p in ps], label=\"C2\")\n",
    "plt.xlabel('p')\n",
    "plt.ylabel('Posterior Bayes vulnerability')\n",
    "plt.legend()\n",
    "None"
   ]
  },
  {
   "cell_type": "markdown",
   "metadata": {},
   "source": [
    "Looks like that the posterior vulnerability of $C_2$ is always smaller than that of $C_1$. But if we want to be sure that this happens for every possible prior distribution (or even for every possible gain function) we have to check for refinement. \n",
    "\n",
    "If $C_1$ is refined by $C_2$, then $C_2$ is always more secure than $C_1$. That is, it always has a smaller vulnerability than $C_2$."
   ]
  },
  {
   "cell_type": "code",
   "execution_count": 11,
   "metadata": {},
   "outputs": [
    {
     "name": "stdout",
     "output_type": "stream",
     "text": [
      "Is C1 refined by C2? True\n"
     ]
    }
   ],
   "source": [
    "refined = refinement.refined_by(C1, C2)\n",
    "print(\"Is C1 refined by C2?\", refined)"
   ]
  },
  {
   "cell_type": "markdown",
   "metadata": {},
   "source": [
    "Looks like our intuition was right!\n",
    "\n",
    "Refinement also means that $C_2$ is a post processing of $C_1$. That means that there exists a channel $R$ such that takes every output of $C_1$, processes it furtherly, produces an output, and in total, their combined behaviour ($C_1$ and $R$) is exactly like that of $C_2$."
   ]
  },
  {
   "cell_type": "code",
   "execution_count": 12,
   "metadata": {},
   "outputs": [
    {
     "name": "stdout",
     "output_type": "stream",
     "text": [
      "Is C1.R == C2?  True\n",
      "\n",
      "R:\n",
      " [[0.83333333 0.05555556 0.05555556 0.05555556]\n",
      " [0.05555556 0.83333333 0.05555556 0.05555556]\n",
      " [0.05555556 0.05555556 0.83333333 0.05555556]\n",
      " [0.05555556 0.05555556 0.05555556 0.83333333]]\n",
      "\n",
      "C1.R:\n",
      " [[0.6        0.13333333 0.13333333 0.13333333]\n",
      " [0.13333333 0.6        0.13333333 0.13333333]\n",
      " [0.13333333 0.13333333 0.6        0.13333333]\n",
      " [0.13333333 0.13333333 0.13333333 0.6       ]]\n",
      "\n",
      "C2:\n",
      " [[0.6        0.13333333 0.13333333 0.13333333]\n",
      " [0.13333333 0.6        0.13333333 0.13333333]\n",
      " [0.13333333 0.13333333 0.6        0.13333333]\n",
      " [0.13333333 0.13333333 0.13333333 0.6       ]]\n"
     ]
    }
   ],
   "source": [
    "R = channel.factorize(C2, C1)\n",
    "print(\"Is C1.R == C2? \", np.allclose(C1.dot(R), C2))\n",
    "print(\"\\nR:\\n\", R)\n",
    "print(\"\\nC1.R:\\n\", C1.dot(R))\n",
    "print(\"\\nC2:\\n\", C2)"
   ]
  },
  {
   "cell_type": "markdown",
   "metadata": {},
   "source": [
    "Note that the rows of $R$ represent diseases not persons! So if we put labels on each row and column as before, it would look like this.\n",
    "\n",
    "$$\n",
    "\\begin{array}{|c|c|c|c|}\n",
    "\\hline\n",
    "R & \\text{COVID-2019} & \\text{FLU-2018} & \\text{H1N1} & \\text{SARS-1}  \\\\ \\hline\n",
    "\\text{COVID-2019} & \\textbf{0.833} & 0.555 & 0.555 & 0.555 \\\\ \\hline\n",
    "\\text{FLU-2018} & 0.555 & \\textbf{0.833} & 0.555 & 0.555 \\\\ \\hline\n",
    "\\text{H1N1} & 0.555 & 0.555 & \\textbf{0.833} & 0.555 \\\\ \\hline\n",
    "\\text{SARS-1} & 0.555 & 0.555 & 0.555 & \\textbf{0.833} \\\\ \\hline\n",
    "\\end{array}\n",
    "$$"
   ]
  }
 ],
 "metadata": {
  "kernelspec": {
   "display_name": "Python 3",
   "language": "python",
   "name": "python3"
  },
  "language_info": {
   "codemirror_mode": {
    "name": "ipython",
    "version": 3
   },
   "file_extension": ".py",
   "mimetype": "text/x-python",
   "name": "python",
   "nbconvert_exporter": "python",
   "pygments_lexer": "ipython3",
   "version": "3.8.5"
  }
 },
 "nbformat": 4,
 "nbformat_minor": 4
}
