{
 "cells": [
  {
   "cell_type": "markdown",
   "metadata": {},
   "source": [
    "# Channels and Posterior Vulnerability (part 3)"
   ]
  },
  {
   "cell_type": "markdown",
   "metadata": {},
   "source": [
    "The next variation we're gonna examine is:"
   ]
  },
  {
   "cell_type": "markdown",
   "metadata": {},
   "source": [
    "## What if the pardoned prisoner is not uniformly chosen at random?\n",
    "\n",
    "Here we're gonna assume the warden bevahes as in the original description of the problem, but we're gonna see what happens when we don't choose the pardoned prisoner uniformly. We're mainly interested in answering the following question:\n",
    "\n",
    "> Given the warden's answer, what is the probability of correctly guessing the pardoned prisoner?\n",
    "\n",
    "Remember that answering this questions in terms of QIF basically means finding the posterior vulnerability of $W$, $V(\\pi, W)$.\n",
    "\n",
    "First let's do some basic imports and definitions in python."
   ]
  },
  {
   "cell_type": "code",
   "execution_count": 1,
   "metadata": {},
   "outputs": [],
   "source": [
    "import numpy as np\n",
    "import matplotlib.pyplot as plt\n",
    "try:\n",
    "    from qif import *\n",
    "except: # install qif if not available (for running in colab, etc)\n",
    "    import IPython; IPython.get_ipython().run_line_magic('pip', 'install qif')\n",
    "    from qif import *"
   ]
  },
  {
   "cell_type": "code",
   "execution_count": 2,
   "metadata": {},
   "outputs": [],
   "source": [
    "def get_W(p):\n",
    "    C = np.array([\n",
    "        [0, p, 1-p],\n",
    "        [0, 0,   1],\n",
    "        [0, 1,   0],\n",
    "    ])\n",
    "    return C\n",
    "\n",
    "def get_distribution(p):\n",
    "    return np.array([p, (1-p)/2,(1-p)/2])"
   ]
  },
  {
   "cell_type": "markdown",
   "metadata": {},
   "source": [
    "Now remember that if you call"
   ]
  },
  {
   "cell_type": "code",
   "execution_count": 3,
   "metadata": {},
   "outputs": [
    {
     "data": {
      "text/plain": [
       "array([0.33333333, 0.33333333, 0.33333333])"
      ]
     },
     "execution_count": 3,
     "metadata": {},
     "output_type": "execute_result"
    }
   ],
   "source": [
    "get_distribution(1/3)"
   ]
  },
  {
   "cell_type": "markdown",
   "metadata": {},
   "source": [
    "you get the uniform distribution and if you call"
   ]
  },
  {
   "cell_type": "code",
   "execution_count": 4,
   "metadata": {},
   "outputs": [
    {
     "data": {
      "text/plain": [
       "array([[0. , 0.5, 0.5],\n",
       "       [0. , 0. , 1. ],\n",
       "       [0. , 1. , 0. ]])"
      ]
     },
     "execution_count": 4,
     "metadata": {},
     "output_type": "execute_result"
    }
   ],
   "source": [
    "get_W(1/2)"
   ]
  },
  {
   "cell_type": "markdown",
   "metadata": {},
   "source": [
    "you get the original $W$.\n",
    "\n",
    "We are gonna keep the original $W$ but experiment with `get_distribution(p)` for different values of `p` and for each those values find out its prior and posterior vulnerability."
   ]
  },
  {
   "cell_type": "markdown",
   "metadata": {},
   "source": [
    "### Prior vunlerability\n",
    "\n",
    "Take a look at the following graph."
   ]
  },
  {
   "cell_type": "code",
   "execution_count": 5,
   "metadata": {},
   "outputs": [
    {
     "data": {
      "image/png": "[encoded data removed]",
      "text/plain": [
       "<Figure size 432x288 with 1 Axes>"
      ]
     },
     "metadata": {
      "needs_background": "light"
     },
     "output_type": "display_data"
    }
   ],
   "source": [
    "ps = np.linspace(0, 1, 100)\n",
    "plt.plot(ps, [measure.bayes_vuln.prior(get_distribution(p)) for p in ps])\n",
    "plt.xlabel('p')\n",
    "plt.ylabel('Prior vulnerability with original W')\n",
    "None"
   ]
  },
  {
   "cell_type": "markdown",
   "metadata": {},
   "source": [
    "The x-axis corresponds to the `p` parameter of `get_distribution(p)` and the y-axis to the vulnerability of the distribution produced by `get_distribution(p)`."
   ]
  },
  {
   "cell_type": "markdown",
   "metadata": {},
   "source": [
    "The code below prints for each parameter `p` its corresponding distribution and marks the element with the highest probability which is basically our best guess for that particular distribution. Notice the maximum elemnts of each distribution as `p` increases."
   ]
  },
  {
   "cell_type": "code",
   "execution_count": 6,
   "metadata": {},
   "outputs": [
    {
     "name": "stdout",
     "output_type": "stream",
     "text": [
      "get_distribution( 0/10) = (    0.00 -->0.50 -->0.50 )\n",
      "get_distribution( 1/10) = (    0.10 -->0.45 -->0.45 )\n",
      "get_distribution( 2/10) = (    0.20 -->0.40 -->0.40 )\n",
      "get_distribution( 3/10) = (    0.30 -->0.35 -->0.35 )\n",
      "get_distribution( 4/10) = ( -->0.40    0.30    0.30 )\n",
      "get_distribution( 5/10) = ( -->0.50    0.25    0.25 )\n",
      "get_distribution( 6/10) = ( -->0.60    0.20    0.20 )\n",
      "get_distribution( 7/10) = ( -->0.70    0.15    0.15 )\n",
      "get_distribution( 8/10) = ( -->0.80    0.10    0.10 )\n",
      "get_distribution( 9/10) = ( -->0.90    0.05    0.05 )\n",
      "get_distribution(10/10) = ( -->1.00    0.00    0.00 )\n"
     ]
    }
   ],
   "source": [
    "from print_dist import print_dist\n",
    "\n",
    "for i in range(11):\n",
    "    print(\"get_distribution(%2d\" % i , \"/10) = \", sep='', end='')\n",
    "    print_dist(get_distribution(i/10), highlight_maxima=True)"
   ]
  },
  {
   "cell_type": "markdown",
   "metadata": {},
   "source": [
    "Basically what happens is:\n",
    "\n",
    " - For $p \\in \\left[ 0, \\frac{1}{3}\\right)$ our best guess for the pardoned prisoner is either $B$ or $C$, and as $p$ gets bigger, our probability of success gets smaller.\n",
    " - For $p = \\frac{1}{3}$ our best guess is either $A$ or $B$ or $C$, and gives us the minimum chance of success among all possible values of $p$.\n",
    " - For $p \\in \\left(\\frac{1}{3}, 1\\right)$ our best guess for the pardoned prisoner is always $A$ and as $p$ gets bigger, our probability of success gets bigger as well.\n",
    " - For $p = 1$ our best guess is $A$ and we succeed with probability of $1$. That is, always!\n",
    " "
   ]
  },
  {
   "cell_type": "markdown",
   "metadata": {},
   "source": [
    "### Posterior vunlerability\n",
    "\n",
    "Now, take a look at the following graph."
   ]
  },
  {
   "cell_type": "code",
   "execution_count": 7,
   "metadata": {},
   "outputs": [
    {
     "data": {
      "image/png": "[encoded data removed]",
      "text/plain": [
       "<Figure size 432x288 with 1 Axes>"
      ]
     },
     "metadata": {
      "needs_background": "light"
     },
     "output_type": "display_data"
    }
   ],
   "source": [
    "ps = np.linspace(0, 1, 100)\n",
    "plt.plot(ps, [measure.bayes_vuln.posterior(get_distribution(p), get_W(0.5)) for p in ps])\n",
    "plt.xlabel('p')\n",
    "plt.ylabel('Posterior vulnerability with original W')\n",
    "None"
   ]
  },
  {
   "cell_type": "markdown",
   "metadata": {},
   "source": [
    "The x-axis again corresponds to the `p` parameter of `get_distribution(p)` but now the y-axis corresponds to the posterior vulnerability of $W$ when based on the distribution produced by `get_distribution(p)`. We can better understand this graph by experimenting with some values of the `p` parameter.\n",
    "\n",
    "The code below prints for each `p` the `p` parameter itself, then the distribution $p_Y(y)$ for $y=B$ or $C$ (remember that Alice's name never pops up meaning $p_Y(A) = 0$, thus $y=A$ is omitted) and then array of the posterior distributions. Its output is in the form of\n",
    "\n",
    "```\n",
    "-------------------------------\n",
    "|    p(Y=B)         p(Y=C)    |\n",
    "-------------------------------\n",
    "| p(X=A | Y=B)   p(X=A | Y=C) |\n",
    "| p(X=B | Y=B)   p(X=B | Y=C) |\n",
    "| p(X=C | Y=B)   p(X=C | Y=C) |\n",
    "-------------------------------\n",
    "```\n",
    "\n",
    "It also marks for each column its maximum element. Notice the maximum elemnts of each column as `p` increases. "
   ]
  },
  {
   "cell_type": "code",
   "execution_count": 8,
   "metadata": {
    "scrolled": true
   },
   "outputs": [
    {
     "name": "stdout",
     "output_type": "stream",
     "text": [
      "\n",
      "p=0/10\n",
      "-------------------\n",
      "|    0.50    0.50 |\n",
      "-------------------\n",
      "|    0.00    0.00 |\n",
      "|    0.00 -->1.00 |\n",
      "| -->1.00    0.00 |\n",
      "-------------------\n",
      "\n",
      "p=1/10\n",
      "-------------------\n",
      "|    0.50    0.50 |\n",
      "-------------------\n",
      "|    0.10    0.10 |\n",
      "|    0.00 -->0.90 |\n",
      "| -->0.90    0.00 |\n",
      "-------------------\n",
      "\n",
      "p=2/10\n",
      "-------------------\n",
      "|    0.50    0.50 |\n",
      "-------------------\n",
      "|    0.20    0.20 |\n",
      "|    0.00 -->0.80 |\n",
      "| -->0.80    0.00 |\n",
      "-------------------\n",
      "\n",
      "p=3/10\n",
      "-------------------\n",
      "|    0.50    0.50 |\n",
      "-------------------\n",
      "|    0.30    0.30 |\n",
      "|    0.00 -->0.70 |\n",
      "| -->0.70    0.00 |\n",
      "-------------------\n",
      "\n",
      "p=4/10\n",
      "-------------------\n",
      "|    0.50    0.50 |\n",
      "-------------------\n",
      "|    0.40    0.40 |\n",
      "|    0.00 -->0.60 |\n",
      "| -->0.60    0.00 |\n",
      "-------------------\n",
      "\n",
      "p=5/10\n",
      "-------------------\n",
      "|    0.50    0.50 |\n",
      "-------------------\n",
      "| -->0.50 -->0.50 |\n",
      "|    0.00 -->0.50 |\n",
      "| -->0.50    0.00 |\n",
      "-------------------\n",
      "\n",
      "p=6/10\n",
      "-------------------\n",
      "|    0.50    0.50 |\n",
      "-------------------\n",
      "| -->0.60 -->0.60 |\n",
      "|    0.00    0.40 |\n",
      "|    0.40    0.00 |\n",
      "-------------------\n",
      "\n",
      "p=7/10\n",
      "-------------------\n",
      "|    0.50    0.50 |\n",
      "-------------------\n",
      "| -->0.70 -->0.70 |\n",
      "|    0.00    0.30 |\n",
      "|    0.30    0.00 |\n",
      "-------------------\n",
      "\n",
      "p=8/10\n",
      "-------------------\n",
      "|    0.50    0.50 |\n",
      "-------------------\n",
      "| -->0.80 -->0.80 |\n",
      "|    0.00    0.20 |\n",
      "|    0.20    0.00 |\n",
      "-------------------\n",
      "\n",
      "p=9/10\n",
      "-------------------\n",
      "|    0.50    0.50 |\n",
      "-------------------\n",
      "| -->0.90 -->0.90 |\n",
      "|    0.00    0.10 |\n",
      "|    0.10    0.00 |\n",
      "-------------------\n",
      "\n",
      "p=10/10\n",
      "-------------------\n",
      "|    1.00    0.00 |\n",
      "-------------------\n",
      "| -->1.00 -->1.00 |\n",
      "|    0.00    0.00 |\n",
      "|    0.00    0.00 |\n",
      "-------------------\n"
     ]
    }
   ],
   "source": [
    "from print_hyper import print_hyper\n",
    "\n",
    "for k in range(11):\n",
    "        print(\"\\np=\", k, \"/10\", sep='')\n",
    "        print_hyper(get_W(1/2), get_distribution(k/10), highlight_maxima=True)"
   ]
  },
  {
   "cell_type": "markdown",
   "metadata": {},
   "source": [
    "Here we see that\n",
    "\n",
    " - For $p \\in \\left( 0, \\frac{1}{2} \\right)$ our best guess is $C$ when $y = B$ and $B$ when $y = C$. In both cases we succeed with the same probability.\n",
    " - For $p = \\frac{1}{2}$ our best guess is, well, anyone.\n",
    " - For $p \\in \\left( \\frac{1}{2}, 1 \\right)$ our best guess is always $A$ no matter the channels output."
   ]
  },
  {
   "cell_type": "markdown",
   "metadata": {},
   "source": [
    "### Multiplicative leakage"
   ]
  },
  {
   "cell_type": "markdown",
   "metadata": {},
   "source": [
    "The multiplicative leakage of a channel $W$ and a distribution $\\pi$ is defined by \n",
    "\n",
    "$$\n",
    "L^{\\times}(\\pi, W) = \\frac{V(\\pi, W)}{V(\\pi)}\n",
    "$$\n",
    "\n",
    "and its main purpose is to provide a measure of leakage with respect to the initial vulnerability the prior distribution had."
   ]
  },
  {
   "cell_type": "code",
   "execution_count": 9,
   "metadata": {},
   "outputs": [
    {
     "data": {
      "image/png": "[encoded data removed]",
      "text/plain": [
       "<Figure size 432x288 with 1 Axes>"
      ]
     },
     "metadata": {
      "needs_background": "light"
     },
     "output_type": "display_data"
    }
   ],
   "source": [
    "plt.plot(ps, [measure.bayes_vuln.mult_leakage(get_distribution(p), get_W(0.5)) for p in ps])\n",
    "plt.xlabel('p')\n",
    "plt.ylabel('Multiplicative leakage with original W')\n",
    "None"
   ]
  },
  {
   "cell_type": "markdown",
   "metadata": {},
   "source": [
    "Here we see that:\n",
    "\n",
    " - For $p \\in \\left( 0, \\frac{1}{3} \\right)$ $W$ makes the secret more vulnerable by doubling its prior vlunerability.\n",
    " - For $p \\in \\left( \\frac{1}{3}, \\frac{1}{2} \\right)$ $W$ makes the secret less and less vulnerable compared to its initial vulnerability.\n",
    " - For $p \\in \\left( \\frac{1}{2}, 1 \\right)$ $W$ keeps the secret as vulnerable as it was before entering the channel.\n",
    " \n",
    "Note that multiplicative leakage equal to $1$ does not imply $0$ vulnerability. Take for example the prior with generated by `get_distribution(9/10)` fed into $W$. Both the prior and posterior vulnerability are equal to $\\frac{9}{10}$ which agrees to the fact that the multiplicative leakage is 1. But the secret is still quite vunerable. It can be guessed correctly in one try with probability of success $\\frac{9}{10}$.\n",
    " \n",
    "It is also interesting to notice that $L^{\\times}(\\pi, W)$ has an inflexion point at $p = \\frac{1}{3}$, the same point where the prior vulnerability makes a turn. It also has another one at $p = \\frac{1}{2}$, the same point where the posterior vulnerability makes a turn.\n"
   ]
  },
  {
   "cell_type": "markdown",
   "metadata": {},
   "source": [
    "### Generalizing over any prior distribution\n",
    "\n",
    "But what happens on other prior distributions? `get_distribution()` creates a very specfic form of distributions, but there are many many more. Infintely many. How can we be sure about our channels behaviour on other priors?\n",
    "\n",
    "Here comes handy the theorem that states that\n",
    "\n",
    "> For any channel $C$, the maximum multiplicative Bayes leakage over all priors is always realized on a uniform prior $\\theta$. \n",
    "\n",
    "The channel's multiplicative leakage on a uniform prior (which in our case is generated by `get_distribution(1/3)`) is equal to $2$. So according to this theorem we can be sure that there is no prior which makes our channel's posterior vulnerability greater than $2$ times its prior vulnerability."
   ]
  },
  {
   "cell_type": "markdown",
   "metadata": {},
   "source": [
    "### Keep experimenting\n",
    "\n",
    "Feel free to play around with different distributions and observe the channel's prior and posterior vulnerabilities as well as its multiplicative leakage."
   ]
  },
  {
   "cell_type": "code",
   "execution_count": 10,
   "metadata": {},
   "outputs": [
    {
     "name": "stdout",
     "output_type": "stream",
     "text": [
      "Prior vulnerability: 0.6\n",
      "Posterior vulnerability: 0.8\n",
      "Multiplicaative leakage: 1.3333333333333335\n"
     ]
    }
   ],
   "source": [
    "distribution = [2/10, 6/10, 2/10] # Remember they must add up to 1\n",
    "channel = get_W(1/2)\n",
    "\n",
    "print(\"Prior vulnerability:\", measure.bayes_vuln.prior(distribution))\n",
    "print(\"Posterior vulnerability:\", measure.bayes_vuln.posterior(distribution, channel))\n",
    "print(\"Multiplicaative leakage:\",measure.bayes_vuln.mult_leakage(distribution, channel))"
   ]
  }
 ],
 "metadata": {
  "kernelspec": {
   "display_name": "Python 3",
   "language": "python",
   "name": "python3"
  },
  "language_info": {
   "codemirror_mode": {
    "name": "ipython",
    "version": 3
   },
   "file_extension": ".py",
   "mimetype": "text/x-python",
   "name": "python",
   "nbconvert_exporter": "python",
   "pygments_lexer": "ipython3",
   "version": "3.8.5"
  }
 },
 "nbformat": 4,
 "nbformat_minor": 4
}
